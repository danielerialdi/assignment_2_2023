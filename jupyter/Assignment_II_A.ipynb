{
 "cells": [
  {
   "cell_type": "code",
   "execution_count": 59,
   "id": "2daa1e52",
   "metadata": {},
   "outputs": [],
   "source": [
    "%matplotlib widget\n",
    "import numpy as np\n",
    "import matplotlib.pyplot as plt \n",
    "import jupyros as jr\n",
    "import rospy\n",
    "from nav_msgs.msg import Odometry \n",
    "from std_msgs.msg import Bool\n",
    "import ipywidgets as widgets\n",
    "from IPython.display import display\n",
    "import assignment_2_2023.msg\n",
    "from assignment_2_2023.msg import PlanningAction\n",
    "from assignment_2_2023.msg import Info"
   ]
  },
  {
   "cell_type": "code",
   "execution_count": null,
   "id": "60c21707",
   "metadata": {},
   "outputs": [],
   "source": [
    "def on_feedback(action_feedback):\n",
    "    global canCancel, send_coordinates\n",
    "    \n",
    "    # We can preempt the robot only if the state machine is in the \"ACTIVE\" status\n",
    "    canCancel = (action_feedback.status.status == action_feedback.status.ACTIVE)\n",
    "    if(canCancel):\n",
    "        send_coordinates.description = \"Cancel\"\n",
    "    else:\n",
    "        send_coordinates.description = \"Send Coordinates\""
   ]
  },
  {
   "cell_type": "code",
   "execution_count": null,
   "id": "18d4495f",
   "metadata": {},
   "outputs": [],
   "source": [
    "def on_result(action_result):\n",
    "    global canCancel, send_coordinates\n",
    "    # We can preempt the robot only if the state machine is not in the \"SUCCEEDED\" or in the \"PREEMPTED\" status\n",
    "    canCancel = not(action_result.status.status == action_result.status.SUCCEEDED or action_result.status.status == action_result.status.PREEMPTED)\n",
    "    if(canCancel):\n",
    "        send_coordinates.description = \"Cancel\"\n",
    "    else:\n",
    "        send_coordinates.description = \"Send Coordinates\"\n",
    "    "
   ]
  },
  {
   "cell_type": "code",
   "execution_count": null,
   "id": "03687688",
   "metadata": {},
   "outputs": [],
   "source": []
  },
  {
   "cell_type": "code",
   "execution_count": 8,
   "id": "7b4beaf1",
   "metadata": {},
   "outputs": [],
   "source": [
    "def on_coordinates(msg):\n",
    "    global pub_coordinates, info, x_coordinate, y_coordinate\n",
    "    \n",
    "    # rospy.loginfo(\"Velocity: %f, %f\", vel_linear_x, vel_angular_z)\n",
    "    \n",
    "    # Prepare and publish the info message\n",
    "    info = Info()\n",
    "    info.x = x_coordinate\n",
    "    info.y = y_coordinate\n",
    "    # I do not actually need the velocity, but I use the message to publish the coordinates\n",
    "    info.vel_linear_x = 0\n",
    "    info.vel_angular_z = 0\n",
    "    \n",
    "    pub_coordinates.publish(info)"
   ]
  },
  {
   "cell_type": "code",
   "execution_count": 55,
   "id": "2cb80611",
   "metadata": {},
   "outputs": [],
   "source": [
    "# def on_button_clicked(b):\n",
    "#     global pub_cancel\n",
    "#     pub_cancel.publish(True)\n",
    "#     print(\"Button clicked.\")\n",
    "\n",
    "def on_coordinates_sent(b):\n",
    "    global x_coordinate, y_coordinate, canCancel, pub_coordinates\n",
    "    # if(info.x != x_coordinate.value or info.y != y_coordinate.value):\n",
    "        # change the button to cancel name and function\n",
    "    if(canCancel and b.description == \"Cancel\"):\n",
    "        print(\"Cancelled\")\n",
    "        b.description = \"Send Coordinates\"\n",
    "    elif(b.description == \"Send Coordinates\"):\n",
    "        info = Info()\n",
    "        info.x = x_coordinate\n",
    "        info.y = y_coordinate\n",
    "        # I do not actually need the velocity, but I use the message to publish the coordinates\n",
    "        info.vel_linear_x = 0\n",
    "        info.vel_angular_z = 0\n",
    "        pub_coordinates.publish(info)\n",
    "        print(\"Coordinates sent with x = %.1f, y = %.1f\" % (x_coordinate.value, y_coordinate.value))\n",
    "        print(\"Sent\")\n",
    "        b.description = \"Cancel\""
   ]
  },
  {
   "cell_type": "code",
   "execution_count": 5,
   "id": "f4c399a5",
   "metadata": {},
   "outputs": [
    {
     "data": {
      "application/vnd.jupyter.widget-view+json": {
       "model_id": "c604f980acb84f0c8a797be897b8ad1d",
       "version_major": 2,
       "version_minor": 0
      },
      "text/plain": [
       "Button(description='Click Me!', style=ButtonStyle())"
      ]
     },
     "metadata": {},
     "output_type": "display_data"
    },
    {
     "data": {
      "application/vnd.jupyter.widget-view+json": {
       "model_id": "adf7cc5728af4da9a06e29dc1357b29e",
       "version_major": 2,
       "version_minor": 0
      },
      "text/plain": [
       "Output()"
      ]
     },
     "metadata": {},
     "output_type": "display_data"
    },
    {
     "name": "stdout",
     "output_type": "stream",
     "text": [
      "Button clicked.\n",
      "Button clicked.\n",
      "Button clicked.\n"
     ]
    }
   ],
   "source": [
    "global pub_coordinates, pub_cancel\n",
    "# create a publisher for the coordinates goal topic\n",
    "pub_coordinates = rospy.Publisher('/goal/coordinates', Odometry, queue_size=1)\n",
    "\n",
    "# create a publisher for the cancel goal topic\n",
    "pub_cancel = rospy.Publisher('/goal/cancel', Bool, queue_size=1)\n",
    "\n",
    "# Subscriber for feedback/status\n",
    "sub_feedback = rospy.Subscriber(\"/reaching_goal/feedback\", assignment_2_2023.msg.PlanningActionFeedback, on_feedback)\n",
    "    \n",
    "# Subscriber for result\n",
    "sub_result = rospy.Subscriber(\"/reaching_goal/result\", assignment_2_2023.msg.PlanningActionResult, on_result)\n",
    "\n",
    "\n",
    "# button = widgets.Button(description=\"Click Me!\") \n",
    "# output = widgets.Output()\n",
    "# display(button, output)\n",
    "# #handle changes, the observe method of the widget can be \n",
    "\n",
    "# button.on_click(on_button_clicked)"
   ]
  },
  {
   "cell_type": "code",
   "execution_count": 58,
   "id": "2ba7e6dd",
   "metadata": {},
   "outputs": [
    {
     "data": {
      "application/vnd.jupyter.widget-view+json": {
       "model_id": "f3447467385a43d4ba493b61ed4430ca",
       "version_major": 2,
       "version_minor": 0
      },
      "text/plain": [
       "FloatSlider(value=7.0, continuous_update=False, description='X:', max=10.0)"
      ]
     },
     "metadata": {},
     "output_type": "display_data"
    },
    {
     "data": {
      "application/vnd.jupyter.widget-view+json": {
       "model_id": "1cb362a97e0b4b1fb7fea2062da2fe6a",
       "version_major": 2,
       "version_minor": 0
      },
      "text/plain": [
       "FloatSlider(value=7.0, continuous_update=False, description='Y:', max=10.0)"
      ]
     },
     "metadata": {},
     "output_type": "display_data"
    },
    {
     "data": {
      "application/vnd.jupyter.widget-view+json": {
       "model_id": "e27f0798ff8343c4ac398030303a753e",
       "version_major": 2,
       "version_minor": 0
      },
      "text/plain": [
       "Button(description='Send Coordinates', style=ButtonStyle())"
      ]
     },
     "metadata": {},
     "output_type": "display_data"
    },
    {
     "data": {
      "application/vnd.jupyter.widget-view+json": {
       "model_id": "8364b69fe722418c8acc0231bae762da",
       "version_major": 2,
       "version_minor": 0
      },
      "text/plain": [
       "Output()"
      ]
     },
     "metadata": {},
     "output_type": "display_data"
    },
    {
     "name": "stdout",
     "output_type": "stream",
     "text": [
      "Coordinates sent with x = 7.0, y = 7.0\n",
      "Sent\n",
      "Cancelled\n",
      "Coordinates sent with x = 7.0, y = 7.0\n",
      "Sent\n",
      "Cancelled\n",
      "Coordinates sent with x = 7.0, y = 3.4\n",
      "Sent\n",
      "Cancelled\n"
     ]
    }
   ],
   "source": [
    "global x_coordinate, y_coordinate, send_coordinates\n",
    "x_coordinate = widgets.FloatSlider( \n",
    "value=7.0,\n",
    "min=0.0, \n",
    "max=10.0, \n",
    "step=0.1,\n",
    "description='X:', \n",
    "disabled=False, \n",
    "continuous_update=False, \n",
    "orientation='horizontal', \n",
    "readout=True\n",
    ")\n",
    "y_coordinate = widgets.FloatSlider( \n",
    "value=7.0,\n",
    "min=0.0, \n",
    "max=10.0, \n",
    "step=0.1,\n",
    "description='Y:', \n",
    "disabled=False, \n",
    "continuous_update=False, \n",
    "orientation='horizontal', \n",
    "readout=True\n",
    ")\n",
    "display(x_coordinate, y_coordinate)\n",
    "\n",
    "send_coordinates = widgets.Button(description=\"Send Coordinates\")\n",
    "output = widgets.Output()\n",
    "display(send_coordinates, output)\n",
    "send_coordinates.on_click(on_coordinates_sent)\n"
   ]
  },
  {
   "cell_type": "code",
   "execution_count": null,
   "id": "74ceabac",
   "metadata": {},
   "outputs": [],
   "source": []
  }
 ],
 "metadata": {
  "kernelspec": {
   "display_name": "Python 3 (ipykernel)",
   "language": "python",
   "name": "python3"
  },
  "language_info": {
   "codemirror_mode": {
    "name": "ipython",
    "version": 3
   },
   "file_extension": ".py",
   "mimetype": "text/x-python",
   "name": "python",
   "nbconvert_exporter": "python",
   "pygments_lexer": "ipython3",
   "version": "3.8.5"
  }
 },
 "nbformat": 4,
 "nbformat_minor": 5
}
