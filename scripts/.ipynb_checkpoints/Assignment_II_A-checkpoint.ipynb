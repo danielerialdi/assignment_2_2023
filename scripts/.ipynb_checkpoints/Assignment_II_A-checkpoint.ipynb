{
 "cells": [
  {
   "cell_type": "code",
   "execution_count": 248,
   "id": "2daa1e52",
   "metadata": {},
   "outputs": [],
   "source": [
    "%matplotlib widget\n",
    "import numpy as np\n",
    "import matplotlib.pyplot as plt \n",
    "import jupyros as jr\n",
    "import rospy\n",
    "from nav_msgs.msg import Odometry \n",
    "from std_msgs.msg import Bool\n",
    "import ipywidgets as widgets\n",
    "from IPython.display import display\n",
    "import assignment_2_2023.msg\n",
    "from assignment_2_2023.msg import PlanningAction\n",
    "from assignment_2_2023.msg import Info\n",
    "import actionlib\n",
    "import actionlib.msg"
   ]
  },
  {
   "cell_type": "code",
   "execution_count": 249,
   "id": "60c21707",
   "metadata": {},
   "outputs": [],
   "source": [
    "def on_feedback(action_feedback):\n",
    "    global canCancel, send_coordinates\n",
    "    \n",
    "    # We can preempt the robot only if the state machine is in the \"ACTIVE\" status\n",
    "    canCancel = (action_feedback.status.status == action_feedback.status.ACTIVE)\n",
    "    if(canCancel):\n",
    "        send_coordinates.description = \"Cancel\"\n",
    "    else:\n",
    "        send_coordinates.description = \"Send Coordinates\""
   ]
  },
  {
   "cell_type": "code",
   "execution_count": 250,
   "id": "18d4495f",
   "metadata": {},
   "outputs": [],
   "source": [
    "def on_result(action_result):\n",
    "    global canCancel, send_coordinates\n",
    "    # We can preempt the robot only if the state machine is not in the \"SUCCEEDED\" or in the \"PREEMPTED\" status\n",
    "    canCancel = not(action_result.status.status == action_result.status.SUCCEEDED or action_result.status.status == action_result.status.PREEMPTED)\n",
    "    if(canCancel):\n",
    "        send_coordinates.description = \"Cancel\"\n",
    "    else:\n",
    "        send_coordinates.description = \"Send Coordinates\"\n",
    "    "
   ]
  },
  {
   "cell_type": "code",
   "execution_count": null,
   "id": "03687688",
   "metadata": {},
   "outputs": [],
   "source": []
  },
  {
   "cell_type": "code",
   "execution_count": 251,
   "id": "7b4beaf1",
   "metadata": {},
   "outputs": [],
   "source": [
    "def on_odom(msg):\n",
    "    pos = msg.pose.pose.position\n",
    "\t\n",
    "\t# Get the current velocity\n",
    "    vel_linear_x = msg.twist.twist.linear.x\n",
    "    vel_angular_z = msg.twist.twist.angular.z\n",
    "    \n",
    "    # rospy.loginfo(\"Velocity: %f, %f\", vel_linear_x, vel_angular_z)\n",
    "    \n",
    "    # Prepare and publish the info message\n",
    "    info = Info()\n",
    "    info.x = pos.x\n",
    "    info.y = pos.y\n",
    "    info.vel_linear_x = vel_linear_x\n",
    "    info.vel_angular_z = vel_angular_z"
   ]
  },
  {
   "cell_type": "code",
   "execution_count": 252,
   "id": "2cb80611",
   "metadata": {},
   "outputs": [],
   "source": [
    "# def on_button_clicked(b):\n",
    "#     global pub_cancel\n",
    "#     pub_cancel.publish(True)\n",
    "#     print(\"Button clicked.\")\n",
    "\n",
    "def on_coordinates_sent(b):\n",
    "    global x_coordinate, y_coordinate, canCancel, pub_coordinates, pub_cancel, client, table\n",
    "    # if(info.x != x_coordinate.value or info.y != y_coordinate.value):\n",
    "        # change the button to cancel name and function\n",
    "    if(b.description == \"Cancel\"):\n",
    "        print(\"Cancelled\")\n",
    "        b.description = \"Send Coordinates\"\n",
    "        client.cancel_goal()\n",
    "    elif(b.description == \"Send Coordinates\"):\n",
    "        # info = Info()\n",
    "        # info.x = x_coordinate.value\n",
    "        # info.y = y_coordinate.value\n",
    "        # # I do not actually need the velocity, but I use the message to publish the coordinates\n",
    "        # info.vel_linear_x = 0.0\n",
    "        # info.vel_angular_z = 0.0\n",
    "        # pub_coordinates.publish(info)\n",
    "        goal = assignment_2_2023.msg.PlanningGoal()\n",
    "        goal.target_pose.pose.position.x = x_coordinate.value\n",
    "        goal.target_pose.pose.position.y = y_coordinate.value\n",
    "        table.append_display_data(x_coordinate)\n",
    "        table.append_display_data(y_coordinate)\n",
    "        \n",
    "        rospy.loginfo(\"Goal set to x = %f, y = %f\", goal.target_pose.pose.position.x, goal.target_pose.pose.position.y)\n",
    "        rospy.loginfo(\"AAAAAAAAAAAAAAAAAAAAAAAAAAAAAAAAAAAAAAAAAAAAAAAAAAAAAAAAAAAAAAAAAAAAAAA\")\n",
    "        \n",
    "        table.append_display_data(x_coordinate)\n",
    "        table.append_display_data(y_coordinate)\n",
    "        client.send_goal(goal)\n",
    "        print(\"Coordinates sent with x = %.1f, y = %.1f\" % (x_coordinate.value, y_coordinate.value))\n",
    "        print(\"Sent\")\n",
    "        b.description = \"Cancel\""
   ]
  },
  {
   "cell_type": "code",
   "execution_count": 253,
   "id": "f4c399a5",
   "metadata": {},
   "outputs": [
    {
     "ename": "ROSException",
     "evalue": "rospy.init_node() has already been called with different arguments: ('interface_node', ['/usr/local/lib/python3.8/dist-packages/ipykernel_launcher.py', '-f', '/root/.local/share/jupyter/runtime/kernel-5add9bc6-3519-4fb8-9bd5-4c682d0c35fc.json'], False, None, False, False)",
     "output_type": "error",
     "traceback": [
      "\u001b[0;31m---------------------------------------------------------------------------\u001b[0m",
      "\u001b[0;31mROSException\u001b[0m                              Traceback (most recent call last)",
      "\u001b[0;32m/tmp/ipykernel_24933/2337789247.py\u001b[0m in \u001b[0;36m<module>\u001b[0;34m\u001b[0m\n\u001b[1;32m      1\u001b[0m \u001b[0;32mglobal\u001b[0m \u001b[0mpub_coordinates\u001b[0m\u001b[0;34m,\u001b[0m \u001b[0mpub_cancel\u001b[0m\u001b[0;34m,\u001b[0m \u001b[0mclient\u001b[0m\u001b[0;34m\u001b[0m\u001b[0;34m\u001b[0m\u001b[0m\n\u001b[1;32m      2\u001b[0m \u001b[0;34m\u001b[0m\u001b[0m\n\u001b[0;32m----> 3\u001b[0;31m \u001b[0mrospy\u001b[0m\u001b[0;34m.\u001b[0m\u001b[0minit_node\u001b[0m\u001b[0;34m(\u001b[0m\u001b[0;34m'client_node'\u001b[0m\u001b[0;34m)\u001b[0m\u001b[0;34m\u001b[0m\u001b[0;34m\u001b[0m\u001b[0m\n\u001b[0m\u001b[1;32m      4\u001b[0m \u001b[0;34m\u001b[0m\u001b[0m\n\u001b[1;32m      5\u001b[0m \u001b[0;31m# create a publisher for the coordinates goal topic\u001b[0m\u001b[0;34m\u001b[0m\u001b[0;34m\u001b[0m\u001b[0;34m\u001b[0m\u001b[0m\n",
      "\u001b[0;32m/opt/ros/noetic/lib/python3/dist-packages/rospy/client.py\u001b[0m in \u001b[0;36minit_node\u001b[0;34m(name, argv, anonymous, log_level, disable_rostime, disable_rosout, disable_signals, xmlrpc_port, tcpros_port)\u001b[0m\n\u001b[1;32m    272\u001b[0m     \u001b[0;32mif\u001b[0m \u001b[0m_init_node_args\u001b[0m\u001b[0;34m:\u001b[0m\u001b[0;34m\u001b[0m\u001b[0;34m\u001b[0m\u001b[0m\n\u001b[1;32m    273\u001b[0m         \u001b[0;32mif\u001b[0m \u001b[0m_init_node_args\u001b[0m \u001b[0;34m!=\u001b[0m \u001b[0;34m(\u001b[0m\u001b[0mname\u001b[0m\u001b[0;34m,\u001b[0m \u001b[0margv\u001b[0m\u001b[0;34m,\u001b[0m \u001b[0manonymous\u001b[0m\u001b[0;34m,\u001b[0m \u001b[0mlog_level\u001b[0m\u001b[0;34m,\u001b[0m \u001b[0mdisable_rostime\u001b[0m\u001b[0;34m,\u001b[0m \u001b[0mdisable_signals\u001b[0m\u001b[0;34m)\u001b[0m\u001b[0;34m:\u001b[0m\u001b[0;34m\u001b[0m\u001b[0;34m\u001b[0m\u001b[0m\n\u001b[0;32m--> 274\u001b[0;31m             \u001b[0;32mraise\u001b[0m \u001b[0mrospy\u001b[0m\u001b[0;34m.\u001b[0m\u001b[0mexceptions\u001b[0m\u001b[0;34m.\u001b[0m\u001b[0mROSException\u001b[0m\u001b[0;34m(\u001b[0m\u001b[0;34m\"rospy.init_node() has already been called with different arguments: \"\u001b[0m\u001b[0;34m+\u001b[0m\u001b[0mstr\u001b[0m\u001b[0;34m(\u001b[0m\u001b[0m_init_node_args\u001b[0m\u001b[0;34m)\u001b[0m\u001b[0;34m)\u001b[0m\u001b[0;34m\u001b[0m\u001b[0;34m\u001b[0m\u001b[0m\n\u001b[0m\u001b[1;32m    275\u001b[0m         \u001b[0;32melse\u001b[0m\u001b[0;34m:\u001b[0m\u001b[0;34m\u001b[0m\u001b[0;34m\u001b[0m\u001b[0m\n\u001b[1;32m    276\u001b[0m             \u001b[0;32mreturn\u001b[0m \u001b[0;31m#already initialized\u001b[0m\u001b[0;34m\u001b[0m\u001b[0;34m\u001b[0m\u001b[0m\n",
      "\u001b[0;31mROSException\u001b[0m: rospy.init_node() has already been called with different arguments: ('interface_node', ['/usr/local/lib/python3.8/dist-packages/ipykernel_launcher.py', '-f', '/root/.local/share/jupyter/runtime/kernel-5add9bc6-3519-4fb8-9bd5-4c682d0c35fc.json'], False, None, False, False)"
     ]
    }
   ],
   "source": [
    "global pub_coordinates, pub_cancel, client\n",
    "\n",
    "rospy.init_node('client_node')\n",
    "\n",
    "# create a publisher for the coordinates goal topic\n",
    "pub_coordinates = rospy.Publisher('/goal/coordinates', Info, queue_size=1)\n",
    "\n",
    "# create a publisher for the cancel goal topic\n",
    "pub_cancel = rospy.Publisher('/goal/cancel', Bool, queue_size=1)\n",
    "\n",
    "# Subscriber for feedback/status\n",
    "sub_feedback = rospy.Subscriber(\"/reaching_goal/feedback\", assignment_2_2023.msg.PlanningActionFeedback, on_feedback)\n",
    "    \n",
    "# Subscriber for result\n",
    "sub_result = rospy.Subscriber(\"/reaching_goal/result\", assignment_2_2023.msg.PlanningActionResult, on_result)\n",
    "\n",
    "# sub_odom is a subscriber that receives Odometry data\n",
    "sub_odom = rospy.Subscriber(\"/odom\", Odometry, on_odom)\n",
    "\n",
    "client = actionlib.SimpleActionClient('/reaching_goal', PlanningAction)\n",
    "print(\"ciao\")\n",
    "client.wait_for_server()\n",
    "\n"
   ]
  },
  {
   "cell_type": "markdown",
   "id": "30bbb804",
   "metadata": {},
   "source": []
  },
  {
   "cell_type": "code",
   "execution_count": null,
   "id": "2ba7e6dd",
   "metadata": {},
   "outputs": [
    {
     "data": {
      "application/vnd.jupyter.widget-view+json": {
       "model_id": "bafc6db2e1d641259362e6b03bdc15c3",
       "version_major": 2,
       "version_minor": 0
      },
      "text/plain": [
       "FloatSlider(value=7.0, continuous_update=False, description='X:', max=10.0)"
      ]
     },
     "metadata": {},
     "output_type": "display_data"
    },
    {
     "data": {
      "application/vnd.jupyter.widget-view+json": {
       "model_id": "5ebcabfe84da4cea89fe6dcabab481a3",
       "version_major": 2,
       "version_minor": 0
      },
      "text/plain": [
       "FloatSlider(value=7.0, continuous_update=False, description='Y:', max=10.0)"
      ]
     },
     "metadata": {},
     "output_type": "display_data"
    },
    {
     "data": {
      "application/vnd.jupyter.widget-view+json": {
       "model_id": "70c87f8030604920be98d889552628c4",
       "version_major": 2,
       "version_minor": 0
      },
      "text/plain": [
       "Button(description='Send Coordinates', style=ButtonStyle())"
      ]
     },
     "metadata": {},
     "output_type": "display_data"
    },
    {
     "data": {
      "application/vnd.jupyter.widget-view+json": {
       "model_id": "c128e3ca40e648a4966d260f27b1e988",
       "version_major": 2,
       "version_minor": 0
      },
      "text/plain": [
       "Output()"
      ]
     },
     "metadata": {},
     "output_type": "display_data"
    },
    {
     "name": "stdout",
     "output_type": "stream",
     "text": [
      "[INFO] [1711981859.388755, 1226.453000]: Goal set to x = 7.000000, y = 7.000000\n",
      "[INFO] [1711981859.391479, 1226.453000]: AAAAAAAAAAAAAAAAAAAAAAAAAAAAAAAAAAAAAAAAAAAAAAAAAAAAAAAAAAAAAAAAAAAAAAA\n",
      "Coordinates sent with x = 7.0, y = 7.0\n",
      "Sent\n"
     ]
    }
   ],
   "source": [
    "global x_coordinate, y_coordinate, send_coordinates\n",
    "x_coordinate = widgets.FloatSlider( \n",
    "value=7.0,\n",
    "min=0.0, \n",
    "max=10.0, \n",
    "step=0.1,\n",
    "description='X:', \n",
    "disabled=False, \n",
    "continuous_update=False, \n",
    "orientation='horizontal', \n",
    "readout=True\n",
    ")\n",
    "y_coordinate = widgets.FloatSlider( \n",
    "value=7.0,\n",
    "min=0.0, \n",
    "max=10.0, \n",
    "step=0.1,\n",
    "description='Y:', \n",
    "disabled=False, \n",
    "continuous_update=False, \n",
    "orientation='horizontal', \n",
    "readout=True\n",
    ")\n",
    "display(x_coordinate, y_coordinate)\n",
    "\n",
    "send_coordinates = widgets.Button(description=\"Send Coordinates\")\n",
    "output = widgets.Output()\n",
    "display(send_coordinates, output)\n",
    "send_coordinates.on_click(on_coordinates_sent)\n"
   ]
  },
  {
   "cell_type": "code",
   "execution_count": null,
   "id": "74ceabac",
   "metadata": {},
   "outputs": [
    {
     "data": {
      "application/vnd.jupyter.widget-view+json": {
       "model_id": "8b48ef6794d44c249ff7d37eb07d6044",
       "version_major": 2,
       "version_minor": 0
      },
      "text/plain": [
       "FloatSlider(value=7.0, continuous_update=False, description='X:', max=10.0)"
      ]
     },
     "metadata": {},
     "output_type": "display_data"
    },
    {
     "data": {
      "application/vnd.jupyter.widget-view+json": {
       "model_id": "8897f83ff49d4554a710a584a7dde653",
       "version_major": 2,
       "version_minor": 0
      },
      "text/plain": [
       "FloatSlider(value=7.0, continuous_update=False, description='Y:', max=10.0)"
      ]
     },
     "metadata": {},
     "output_type": "display_data"
    }
   ],
   "source": [
    "global table\n",
    "table = widgets.Output()\n",
    "# Fill this table with some data\n",
    "# with output: x_coordinate and y_coordinate\n"
   ]
  }
 ],
 "metadata": {
  "kernelspec": {
   "display_name": "Python 3 (ipykernel)",
   "language": "python",
   "name": "python3"
  },
  "language_info": {
   "codemirror_mode": {
    "name": "ipython",
    "version": 3
   },
   "file_extension": ".py",
   "mimetype": "text/x-python",
   "name": "python",
   "nbconvert_exporter": "python",
   "pygments_lexer": "ipython3",
   "version": "3.8.5"
  }
 },
 "nbformat": 4,
 "nbformat_minor": 5
}
