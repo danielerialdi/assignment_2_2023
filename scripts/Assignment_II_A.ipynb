{
 "cells": [
  {
   "cell_type": "code",
   "execution_count": 53,
   "id": "2daa1e52",
   "metadata": {},
   "outputs": [],
   "source": [
    "%matplotlib widget\n",
    "import numpy as np\n",
    "import matplotlib.pyplot as plt \n",
    "import jupyros as jr\n",
    "import rospy\n",
    "from nav_msgs.msg import Odometry \n",
    "import ipywidgets as widgets\n",
    "from ipywidgets import interact, interactive\n",
    "from IPython.display import display, Markdown\n",
    "import assignment_2_2023.msg\n",
    "from assignment_2_2023.msg import PlanningAction\n",
    "from assignment_2_2023.msg import Info\n",
    "import actionlib\n",
    "import actionlib.msg\n",
    "from matplotlib.widgets import TextBox\n"
   ]
  },
  {
   "cell_type": "code",
   "execution_count": 54,
   "id": "a40889a7",
   "metadata": {},
   "outputs": [],
   "source": [
    "def on_feedback(action_feedback):\n",
    "\n",
    "    global send_coordinates\n",
    "    \n",
    "    # We can preempt the robot only if the state machine is in the \"ACTIVE\" status\n",
    "    if(action_feedback.status.status == action_feedback.status.ACTIVE):\n",
    "        send_coordinates.description = \"Cancel\"\n",
    "        send_coordinates.style.button_color = 'red'\n",
    "        \n",
    "    else:\n",
    "        send_coordinates.description = \"Send Coordinates\"\n",
    "        send_coordinates.style.button_color = 'green'\n",
    "        \n"
   ]
  },
  {
   "cell_type": "code",
   "execution_count": 55,
   "id": "7d1e86fc",
   "metadata": {},
   "outputs": [],
   "source": [
    "\n",
    "def on_result(action_result):\n",
    "    global send_coordinates\n",
    "    # We can preempt the robot only if the state machine is not in the \"SUCCEEDED\" or in the \"PREEMPTED\" status\n",
    "    if(not(action_result.status.status == action_result.status.SUCCEEDED or action_result.status.status == action_result.status.PREEMPTED)):\n",
    "        send_coordinates.description = \"Cancel\"\n",
    "        send_coordinates.style.button_color = 'red'\n",
    "        \n",
    "    else:\n",
    "        send_coordinates.description = \"Send Coordinates\"\n",
    "        send_coordinates.style.button_color = 'green'\n",
    "\n"
   ]
  },
  {
   "cell_type": "code",
   "execution_count": 56,
   "id": "7b4beaf1",
   "metadata": {},
   "outputs": [],
   "source": [
    "def on_odom(msg):\n",
    "    global info, pub_info, hbox_1, hbox_2, info_old\n",
    "    pos = msg.pose.pose.position\n",
    "\t\n",
    "\t# Get the current velocity\n",
    "    vel_linear_x = msg.twist.twist.linear.x\n",
    "    vel_angular_z = msg.twist.twist.angular.z\n",
    "    \n",
    "    # rospy.loginfo(\"Velocity: %f, %f\", vel_linear_x, vel_angular_z)\n",
    "    \n",
    "    # Prepare and publish the info message\n",
    "    info = Info()\n",
    "    info.x = pos.x\n",
    "    info.y = pos.y\n",
    "    info.vel_linear_x = vel_linear_x\n",
    "    info.vel_angular_z = vel_angular_z\n",
    "    pub_info.publish(info)\n",
    "    if(abs(info_old.x-info.x) >= 0.1 or abs(info_old.y-info.y) >= 0.1):\n",
    "        hbox_1.children = ([widgets.Label(\"{:.1f}\".format(info.x)),])\n",
    "        hbox_2.children = ([widgets.Label(\"{:.1f}\".format(info.y)),])\n",
    "        info_old = info"
   ]
  },
  {
   "cell_type": "code",
   "execution_count": 57,
   "id": "f4c399a5",
   "metadata": {},
   "outputs": [
    {
     "data": {
      "text/plain": [
       "True"
      ]
     },
     "execution_count": 57,
     "metadata": {},
     "output_type": "execute_result"
    }
   ],
   "source": [
    "global client, pub_info, info_old, send_coordinates\n",
    "info_old = Info()\n",
    "info_old.x = 0.0\n",
    "info_old.y = 0.0\n",
    "hbox_1 = widgets.HBox()\n",
    "hbox_2 = widgets.HBox()\n",
    "send_coordinates = widgets.Button()\n",
    "rospy.init_node('client_node')\n",
    "\n",
    "# sub_odom is a subscriber that receives Odometry data\n",
    "sub_odom = rospy.Subscriber(\"/odom\", Odometry, on_odom)\n",
    "\n",
    "# Subscriber for feedback/status\n",
    "sub_feedback = rospy.Subscriber(\"/reaching_goal/feedback\",assignment_2_2023.msg.PlanningActionFeedback, on_feedback)\n",
    "    \n",
    "# Subscriber for result\n",
    "sub_result = rospy.Subscriber(\"/reaching_goal/result\",assignment_2_2023.msg.PlanningActionResult, on_result)\n",
    "\n",
    "# info_pub is a publisher that sends the info (x,y,vel_linear_x, vel_angular_z)\n",
    "pub_info = rospy.Publisher('/info_pos_vel', Info, queue_size = 1)\n",
    "\n",
    "client = actionlib.SimpleActionClient('/reaching_goal', PlanningAction)\n",
    "client.wait_for_server()\n",
    "\n"
   ]
  },
  {
   "cell_type": "code",
   "execution_count": 58,
   "id": "2cb80611",
   "metadata": {},
   "outputs": [],
   "source": [
    "\n",
    "def on_coordinates_sent(b):\n",
    "    global x_coordinate, y_coordinate, client, info, vbox, html_code_vertical_shorter\n",
    "    if(b.description == \"Cancel\"):\n",
    "        b.description = \"Send Coordinates\"\n",
    "        b.style.button_color = 'green'\n",
    "        client.cancel_goal()\n",
    "        \n",
    "        \n",
    "        hbox = widgets.HBox()\n",
    "        hbox_try0 = widgets.HBox((widgets.Label(\"Deleted\"),))\n",
    "        hbox_try1 = widgets.HBox((widgets.Label(\"{:.1f}\".format(info.x)),))\n",
    "        hbox_try2 = widgets.HBox((widgets.Label(\"{:.1f}\".format(info.y)),))\n",
    "        hbox_try0.layout = widgets.Layout(width='33%', height='20px', overflow_y='hidden', justify_content='center', align_items='center')\n",
    "        hbox_try1.layout = widgets.Layout(width='33%', height='20px', overflow_y='hidden', justify_content='center', align_items='center')\n",
    "        hbox_try2.layout = widgets.Layout(width='33%', height='20px', overflow_y='hidden', justify_content='center', align_items='center')\n",
    "\n",
    "\n",
    "        hbox.children = ([hbox_try0, widgets.HTML(html_code_vertical_shorter), hbox_try1, widgets.HTML(html_code_vertical_shorter), hbox_try2])\n",
    "        vbox.children = vbox.children + tuple([hbox,])\n",
    "        vbox\n",
    "        \n",
    "    elif(b.description == \"Send Coordinates\"):\n",
    "        b.description = \"Cancel\"\n",
    "        b.style.button_color = 'red'\n",
    "        goal = assignment_2_2023.msg.PlanningGoal()\n",
    "        goal.target_pose.pose.position.x = x_coordinate.value\n",
    "        goal.target_pose.pose.position.y = y_coordinate.value\n",
    "        \n",
    "        hbox = widgets.HBox()\n",
    "        hbox_try0 = widgets.HBox((widgets.Label(\"Start\"),))\n",
    "        hbox_try1 = widgets.HBox((widgets.Label(str(x_coordinate.value)),))\n",
    "        hbox_try2 = widgets.HBox((widgets.Label(str(y_coordinate.value)),))\n",
    "        hbox_try0.layout = widgets.Layout(width='33%', height='20px', overflow_y='hidden', justify_content='center', align_items='center')\n",
    "        hbox_try1.layout = widgets.Layout(width='33%', height='20px', overflow_y='hidden', justify_content='center', align_items='center')\n",
    "        hbox_try2.layout = widgets.Layout(width='33%', height='20px', overflow_y='hidden', justify_content='center', align_items='center')\n",
    "\n",
    "        hbox.children = ([hbox_try0, widgets.HTML(html_code_vertical_shorter), hbox_try1, widgets.HTML(html_code_vertical_shorter), hbox_try2])\n",
    "        vbox.children = vbox.children + tuple([hbox,])\n",
    "        vbox\n",
    "        \n",
    "        rospy.loginfo(\"Goal set to x = %f, y = %f\", goal.target_pose.pose.position.x, goal.target_pose.pose.position.y)\n",
    "        client.send_goal(goal)\n",
    "        print(\"Coordinates sent with x = %.1f, y = %.1f\" % (x_coordinate.value, y_coordinate.value))\n",
    "        "
   ]
  },
  {
   "cell_type": "code",
   "execution_count": 59,
   "id": "2ba7e6dd",
   "metadata": {},
   "outputs": [
    {
     "data": {
      "text/markdown": [
       "<div style=\"font-family: Arial; font-size: 18px;\">Choose X and Y coordinates to be reached from the robot</div>"
      ],
      "text/plain": [
       "<IPython.core.display.Markdown object>"
      ]
     },
     "metadata": {},
     "output_type": "display_data"
    },
    {
     "data": {
      "application/vnd.jupyter.widget-view+json": {
       "model_id": "5c80a30fd4f449c9a96cc3466e131be7",
       "version_major": 2,
       "version_minor": 0
      },
      "text/plain": [
       "FloatSlider(value=0.0, continuous_update=False, description='X:', max=9.0, min=-9.0)"
      ]
     },
     "metadata": {},
     "output_type": "display_data"
    },
    {
     "data": {
      "application/vnd.jupyter.widget-view+json": {
       "model_id": "ba2306bdd98f49b6b18a61ba890bb405",
       "version_major": 2,
       "version_minor": 0
      },
      "text/plain": [
       "FloatSlider(value=1.0, continuous_update=False, description='Y:', max=9.0, min=-9.0)"
      ]
     },
     "metadata": {},
     "output_type": "display_data"
    },
    {
     "data": {
      "application/vnd.jupyter.widget-view+json": {
       "model_id": "1ee22fdffdd445fb9229faceb54c23cf",
       "version_major": 2,
       "version_minor": 0
      },
      "text/plain": [
       "Button(description='Send Coordinates', layout=Layout(height='60px', width='50%'), style=ButtonStyle(button_col…"
      ]
     },
     "metadata": {},
     "output_type": "display_data"
    },
    {
     "data": {
      "application/vnd.jupyter.widget-view+json": {
       "model_id": "7612592f7419435f82f9b9e81355bbed",
       "version_major": 2,
       "version_minor": 0
      },
      "text/plain": [
       "Output()"
      ]
     },
     "metadata": {},
     "output_type": "display_data"
    },
    {
     "data": {
      "text/markdown": [
       "<div style=\"font-family: Arial; font-size: 18px;\">Current coordinates of the robot</div>"
      ],
      "text/plain": [
       "<IPython.core.display.Markdown object>"
      ]
     },
     "metadata": {},
     "output_type": "display_data"
    },
    {
     "data": {
      "application/vnd.jupyter.widget-view+json": {
       "model_id": "d9a19418950147d5b22c42fc1c656e67",
       "version_major": 2,
       "version_minor": 0
      },
      "text/plain": [
       "VBox(children=(HTML(value='<hr style=\"border-top: 1px solid #000;\">'), HBox(children=(HTML(value='<div style=\"…"
      ]
     },
     "metadata": {},
     "output_type": "display_data"
    },
    {
     "data": {
      "text/markdown": [
       "<div style=\"font-family: Arial; font-size: 18px;\">Here the sets of sent and canceled goals are shown</div>"
      ],
      "text/plain": [
       "<IPython.core.display.Markdown object>"
      ]
     },
     "metadata": {},
     "output_type": "display_data"
    },
    {
     "data": {
      "application/vnd.jupyter.widget-view+json": {
       "model_id": "c84a2d50c034420696aef0eb4048212d",
       "version_major": 2,
       "version_minor": 0
      },
      "text/plain": [
       "VBox(children=(HTML(value='<hr style=\"border-top: 1px solid #000;\">'), HBox(children=(HBox(children=(Label(val…"
      ]
     },
     "metadata": {},
     "output_type": "display_data"
    },
    {
     "name": "stdout",
     "output_type": "stream",
     "text": [
      "[INFO] [1712396154.533344, 3261.707000]: Goal set to x = -3.600000, y = 1.000000\n",
      "Coordinates sent with x = -3.6, y = 1.0\n",
      "[INFO] [1712396172.684611, 3274.903000]: Goal set to x = -3.600000, y = 1.000000\n",
      "Coordinates sent with x = -3.6, y = 1.0\n",
      "[INFO] [1712396180.197476, 3280.574000]: Goal set to x = -0.900000, y = 3.400000\n",
      "Coordinates sent with x = -0.9, y = 3.4\n"
     ]
    }
   ],
   "source": [
    "global x_coordinate, y_coordinate, send_coordinates, vbox, hbox_1, hbox_2, html_code_vertical_shorter\n",
    "\n",
    "x_coordinate = widgets.FloatSlider( \n",
    "value=0.0,\n",
    "min=-9.0, \n",
    "max=9.0, \n",
    "step=0.1,\n",
    "description='X:', \n",
    "disabled=False, \n",
    "continuous_update=False, \n",
    "orientation='horizontal', \n",
    "readout=True\n",
    ")\n",
    "y_coordinate = widgets.FloatSlider( \n",
    "value=1.0,\n",
    "min= -9.0, \n",
    "max=9.0, \n",
    "step=0.1,\n",
    "description='Y:', \n",
    "disabled=False, \n",
    "continuous_update=False, \n",
    "orientation='horizontal', \n",
    "readout=True\n",
    ")\n",
    "from IPython.display import display, Markdown\n",
    "\n",
    "# Define Markdown with HTML syntax for font and size\n",
    "introduction = f'<div style=\"font-family: Arial; font-size: 18px;\">Choose X and Y coordinates to be reached from the robot</div>'\n",
    "\n",
    "# Display the Markdown with HTML syntax\n",
    "display(Markdown(introduction))\n",
    "\n",
    "display(x_coordinate, y_coordinate)\n",
    "\n",
    "send_coordinates = widgets.Button(description=\"Send Coordinates\", layout=widgets.Layout(width='50%', height='60px', color='black', font_weight='bold'))\n",
    "send_coordinates.style.button_color = 'green'\n",
    "send_coordinates.style.font_weight = 'bold'\n",
    "output = widgets.Output()\n",
    "display(send_coordinates, output)\n",
    "send_coordinates.on_click(on_coordinates_sent)\n",
    "\n",
    "## Show interactive robot position\n",
    "hbox_coordinates = widgets.HBox()\n",
    "hbox_0 = widgets.HBox((widgets.Label(\"Coordinates:\"),))\n",
    "hbox_0.layout = widgets.Layout(width='33%', height='60px', overflow_y='hidden',justify_content='center', align_items='center')\n",
    "hbox_1 = widgets.HBox((widgets.Label(\"{:.1f}\".format(info.x)),))\n",
    "hbox_1.layout = widgets.Layout(width='33%', height='60px', overflow_y='hidden', justify_content='center', align_items='center')\n",
    "hbox_2 = widgets.HBox((widgets.Label(\"{:.1f}\".format(info.y)),))\n",
    "hbox_2.layout = widgets.Layout(width='33%', height='60px', overflow_y='hidden', justify_content='center', align_items='center')\n",
    "html_code_vertical = '<div style=\"border-left: 1px solid #000; height: 100px;\"></div>'\n",
    "html_code_vertical_shorter = '<div style=\"border-left: 1px solid #000; height: 20px;\"></div>'\n",
    "\n",
    "html_code_horizontal = '<hr style=\"border-top: 1px solid #000;\">'\n",
    "\n",
    "\n",
    "hbox_coordinates.layout = widgets.Layout(width='100%', height='60px', overflow_y='hidden', )\n",
    "\n",
    "vbox_coordinates = widgets.VBox()\n",
    "vbox_coordinates.layout = widgets.Layout(width='100%', height='100px', overflow_y='hidden')\n",
    "# hbox_coordinates_0 = widgets.HBox([hbox_0, hbox_1, hbox_2])\n",
    "hbox_coordinates.children = [widgets.HTML(html_code_vertical), hbox_0, widgets.HTML(html_code_vertical), hbox_1, widgets.HTML(html_code_vertical), hbox_2, widgets.HTML(html_code_vertical)]\n",
    "vbox_coordinates.children = [widgets.HTML(html_code_horizontal), hbox_coordinates, widgets.HTML(html_code_horizontal)]\n",
    "# display(widgets.HTML(html_code_horizontal))\n",
    "# display(hbox_coordinates)\n",
    "current_coordinates_text = f'<div style=\"font-family: Arial; font-size: 18px;\">Current coordinates of the robot</div>'\n",
    "\n",
    "# Display the Markdown with HTML syntax\n",
    "display(Markdown(current_coordinates_text))\n",
    "\n",
    "display(vbox_coordinates)\n",
    "## Show table with coordinates\n",
    "# Display the tables\n",
    "# Define Markdown with HTML syntax for font and size\n",
    "sets_of_coordinates_text = f'<div style=\"font-family: Arial; font-size: 18px;\">Here the sets of sent and canceled goals are shown</div>'\n",
    "\n",
    "# Display the Markdown with HTML syntax\n",
    "display(Markdown(sets_of_coordinates_text))\n",
    "vbox = widgets.VBox()\n",
    "hbox = widgets.HBox()\n",
    "hbox_try0 = widgets.HBox((widgets.Label(\"Operation\"),))\n",
    "hbox_try1 = widgets.HBox((widgets.Label(\"X\"),))\n",
    "hbox_try2 = widgets.HBox((widgets.Label(\"Y\"),))\n",
    "hbox_try0.layout = widgets.Layout(width='33%', height='20px', overflow_y='hidden', justify_content='center', align_items='center')\n",
    "hbox_try1.layout = widgets.Layout(width='33%', height='20px', overflow_y='hidden', justify_content='center', align_items='center')\n",
    "hbox_try2.layout = widgets.Layout(width='33%', height='20px', overflow_y='hidden', justify_content='center', align_items='center')\n",
    "\n",
    "hbox.children = ([hbox_try0, widgets.HTML(html_code_vertical_shorter), hbox_try1, widgets.HTML(html_code_vertical_shorter), hbox_try2])\n",
    "vbox.children = tuple([widgets.HTML(html_code_horizontal), hbox, widgets.HTML(html_code_horizontal),])\n",
    "display(vbox)\n",
    "\n"
   ]
  },
  {
   "cell_type": "code",
   "execution_count": null,
   "id": "74ceabac",
   "metadata": {},
   "outputs": [],
   "source": []
  }
 ],
 "metadata": {
  "kernelspec": {
   "display_name": "Python 3 (ipykernel)",
   "language": "python",
   "name": "python3"
  },
  "language_info": {
   "codemirror_mode": {
    "name": "ipython",
    "version": 3
   },
   "file_extension": ".py",
   "mimetype": "text/x-python",
   "name": "python",
   "nbconvert_exporter": "python",
   "pygments_lexer": "ipython3",
   "version": "3.8.5"
  }
 },
 "nbformat": 4,
 "nbformat_minor": 5
}
