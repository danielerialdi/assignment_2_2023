{
 "cells": [
  {
   "cell_type": "code",
   "execution_count": 32,
   "id": "2daa1e52",
   "metadata": {},
   "outputs": [],
   "source": [
    "%matplotlib widget\n",
    "import numpy as np\n",
    "import matplotlib.pyplot as plt \n",
    "import jupyros as jr\n",
    "import rospy\n",
    "from nav_msgs.msg import Odometry \n",
    "from std_msgs.msg import Bool\n",
    "import ipywidgets as widgets\n",
    "from IPython.display import display\n",
    "import assignment_2_2023.msg\n",
    "from assignment_2_2023.msg import PlanningAction\n",
    "from assignment_2_2023.msg import Info\n",
    "import actionlib\n",
    "import actionlib.msg"
   ]
  },
  {
   "cell_type": "code",
   "execution_count": 33,
   "id": "60c21707",
   "metadata": {},
   "outputs": [],
   "source": [
    "def on_feedback(action_feedback):\n",
    "    global canCancel, send_coordinates\n",
    "    \n",
    "    # We can preempt the robot only if the state machine is in the \"ACTIVE\" status\n",
    "    canCancel = (action_feedback.status.status == action_feedback.status.ACTIVE)\n",
    "    if(canCancel):\n",
    "        send_coordinates.description = \"Cancel\"\n",
    "    else:\n",
    "        send_coordinates.description = \"Send Coordinates\""
   ]
  },
  {
   "cell_type": "code",
   "execution_count": 34,
   "id": "18d4495f",
   "metadata": {},
   "outputs": [],
   "source": [
    "def on_result(action_result):\n",
    "    global canCancel, send_coordinates\n",
    "    # We can preempt the robot only if the state machine is not in the \"SUCCEEDED\" or in the \"PREEMPTED\" status\n",
    "    canCancel = not(action_result.status.status == action_result.status.SUCCEEDED or action_result.status.status == action_result.status.PREEMPTED)\n",
    "    if(canCancel):\n",
    "        send_coordinates.description = \"Cancel\"\n",
    "    else:\n",
    "        send_coordinates.description = \"Send Coordinates\"\n",
    "    "
   ]
  },
  {
   "cell_type": "code",
   "execution_count": null,
   "id": "03687688",
   "metadata": {},
   "outputs": [],
   "source": []
  },
  {
   "cell_type": "code",
   "execution_count": 35,
   "id": "7b4beaf1",
   "metadata": {},
   "outputs": [],
   "source": [
    "def on_odom(msg):\n",
    "    global info\n",
    "    pos = msg.pose.pose.position\n",
    "\t\n",
    "\t# Get the current velocity\n",
    "    vel_linear_x = msg.twist.twist.linear.x\n",
    "    vel_angular_z = msg.twist.twist.angular.z\n",
    "    \n",
    "    # rospy.loginfo(\"Velocity: %f, %f\", vel_linear_x, vel_angular_z)\n",
    "    \n",
    "    # Prepare and publish the info message\n",
    "    info = Info()\n",
    "    info.x = pos.x\n",
    "    info.y = pos.y\n",
    "    info.vel_linear_x = vel_linear_x\n",
    "    info.vel_angular_z = vel_angular_z"
   ]
  },
  {
   "cell_type": "code",
   "execution_count": 36,
   "id": "2acc9695",
   "metadata": {},
   "outputs": [],
   "source": [
    "def show_data(a, b, c):\n",
    "    print('{} {} {}'.format(a, b, c))"
   ]
  },
  {
   "cell_type": "code",
   "execution_count": 47,
   "id": "2cb80611",
   "metadata": {},
   "outputs": [],
   "source": [
    "\n",
    "def on_coordinates_sent(b):\n",
    "    global x_coordinate, y_coordinate, canCancel, pub_coordinates, pub_cancel, client, info, vbox\n",
    "    if(b.description == \"Cancel\"):\n",
    "        b.description = \"Send Coordinates\"\n",
    "        client.cancel_goal()\n",
    "        \n",
    "        \n",
    "        hbox = widgets.HBox()\n",
    "\n",
    "        hbox.children = ([widgets.Label(\"Deleted\"), widgets.Label(\"{:.1f}\".format(info.x)), widgets.Label(\"{:.1f}\".format(info.y))])\n",
    "        vbox.children = vbox.children + tuple([hbox,])\n",
    "        vbox\n",
    "        \n",
    "    elif(b.description == \"Send Coordinates\"):\n",
    "        goal = assignment_2_2023.msg.PlanningGoal()\n",
    "        goal.target_pose.pose.position.x = x_coordinate.value\n",
    "        goal.target_pose.pose.position.y = y_coordinate.value\n",
    "        \n",
    "        hbox = widgets.HBox()\n",
    "\n",
    "        hbox.children = ([widgets.Label(\"Start\"), widgets.Label(str(x_coordinate.value)), widgets.Label(str(y_coordinate.value))])\n",
    "        vbox.children = vbox.children + tuple([hbox,])\n",
    "        vbox\n",
    "        \n",
    "        rospy.loginfo(\"Goal set to x = %f, y = %f\", goal.target_pose.pose.position.x, goal.target_pose.pose.position.y)\n",
    "        client.send_goal(goal)\n",
    "        print(\"Coordinates sent with x = %.1f, y = %.1f\" % (x_coordinate.value, y_coordinate.value))\n",
    "        b.description = \"Cancel\""
   ]
  },
  {
   "cell_type": "code",
   "execution_count": 44,
   "id": "f4c399a5",
   "metadata": {},
   "outputs": [
    {
     "name": "stdout",
     "output_type": "stream",
     "text": [
      "ciao\n"
     ]
    },
    {
     "data": {
      "text/plain": [
       "True"
      ]
     },
     "execution_count": 44,
     "metadata": {},
     "output_type": "execute_result"
    }
   ],
   "source": [
    "global pub_coordinates, pub_cancel, client\n",
    "\n",
    "rospy.init_node('client_node')\n",
    "\n",
    "# create a publisher for the coordinates goal topic\n",
    "pub_coordinates = rospy.Publisher('/goal/coordinates', Info, queue_size=1)\n",
    "\n",
    "# create a publisher for the cancel goal topic\n",
    "pub_cancel = rospy.Publisher('/goal/cancel', Bool, queue_size=1)\n",
    "\n",
    "# Subscriber for feedback/status\n",
    "sub_feedback = rospy.Subscriber(\"/reaching_goal/feedback\", assignment_2_2023.msg.PlanningActionFeedback, on_feedback)\n",
    "    \n",
    "# Subscriber for result\n",
    "sub_result = rospy.Subscriber(\"/reaching_goal/result\", assignment_2_2023.msg.PlanningActionResult, on_result)\n",
    "\n",
    "# sub_odom is a subscriber that receives Odometry data\n",
    "sub_odom = rospy.Subscriber(\"/odom\", Odometry, on_odom)\n",
    "\n",
    "client = actionlib.SimpleActionClient('/reaching_goal', PlanningAction)\n",
    "client.wait_for_server()\n",
    "\n"
   ]
  },
  {
   "cell_type": "markdown",
   "id": "30bbb804",
   "metadata": {},
   "source": []
  },
  {
   "cell_type": "code",
   "execution_count": 48,
   "id": "2ba7e6dd",
   "metadata": {},
   "outputs": [
    {
     "data": {
      "application/vnd.jupyter.widget-view+json": {
       "model_id": "47609d840ec94fda9203b8ac493e6d81",
       "version_major": 2,
       "version_minor": 0
      },
      "text/plain": [
       "FloatSlider(value=7.0, continuous_update=False, description='X:', max=10.0)"
      ]
     },
     "metadata": {},
     "output_type": "display_data"
    },
    {
     "data": {
      "application/vnd.jupyter.widget-view+json": {
       "model_id": "270da87bdbfd408bb6b644870f534211",
       "version_major": 2,
       "version_minor": 0
      },
      "text/plain": [
       "FloatSlider(value=7.0, continuous_update=False, description='Y:', max=10.0)"
      ]
     },
     "metadata": {},
     "output_type": "display_data"
    },
    {
     "data": {
      "application/vnd.jupyter.widget-view+json": {
       "model_id": "46b8680e1e2d4b3d903234a45dfc6960",
       "version_major": 2,
       "version_minor": 0
      },
      "text/plain": [
       "Button(description='Send Coordinates', style=ButtonStyle())"
      ]
     },
     "metadata": {},
     "output_type": "display_data"
    },
    {
     "data": {
      "application/vnd.jupyter.widget-view+json": {
       "model_id": "eeb509ad28ea4d7f969a482de4c785ce",
       "version_major": 2,
       "version_minor": 0
      },
      "text/plain": [
       "Output()"
      ]
     },
     "metadata": {},
     "output_type": "display_data"
    },
    {
     "data": {
      "application/vnd.jupyter.widget-view+json": {
       "model_id": "e7d5bd72a3d8486ba5a39dcc9f49fcb6",
       "version_major": 2,
       "version_minor": 0
      },
      "text/plain": [
       "VBox(children=(HBox(children=(Label(value='Operation'), Label(value='X'), Label(value='Y'))),))"
      ]
     },
     "metadata": {},
     "output_type": "display_data"
    },
    {
     "name": "stdout",
     "output_type": "stream",
     "text": [
      "[INFO] [1711998273.553755, 1476.966000]: Goal set to x = 7.000000, y = 7.000000\n",
      "Coordinates sent with x = 7.0, y = 7.0\n"
     ]
    }
   ],
   "source": [
    "global x_coordinate, y_coordinate, send_coordinates, vbox\n",
    "x_coordinate = widgets.FloatSlider( \n",
    "value=7.0,\n",
    "min=0.0, \n",
    "max=10.0, \n",
    "step=0.1,\n",
    "description='X:', \n",
    "disabled=False, \n",
    "continuous_update=False, \n",
    "orientation='horizontal', \n",
    "readout=True\n",
    ")\n",
    "y_coordinate = widgets.FloatSlider( \n",
    "value=7.0,\n",
    "min=0.0, \n",
    "max=10.0, \n",
    "step=0.1,\n",
    "description='Y:', \n",
    "disabled=False, \n",
    "continuous_update=False, \n",
    "orientation='horizontal', \n",
    "readout=True\n",
    ")\n",
    "display(x_coordinate, y_coordinate)\n",
    "\n",
    "send_coordinates = widgets.Button(description=\"Send Coordinates\")\n",
    "output = widgets.Output()\n",
    "display(send_coordinates, output)\n",
    "send_coordinates.on_click(on_coordinates_sent)\n",
    "# Display the tables\n",
    "vbox = widgets.VBox()\n",
    "hbox = widgets.HBox()\n",
    "\n",
    "hbox.children = ([widgets.Label(\"Operation\"), widgets.Label(\"X\"), widgets.Label(\"Y\")])\n",
    "vbox.children = tuple([hbox,])\n",
    "display(vbox)\n"
   ]
  },
  {
   "cell_type": "code",
   "execution_count": null,
   "id": "74ceabac",
   "metadata": {},
   "outputs": [],
   "source": [
    "\n"
   ]
  },
  {
   "cell_type": "code",
   "execution_count": null,
   "id": "a8c5646a",
   "metadata": {},
   "outputs": [],
   "source": [
    "\n"
   ]
  },
  {
   "cell_type": "code",
   "execution_count": 40,
   "metadata": {},
   "outputs": [
    {
     "data": {
      "application/vnd.jupyter.widget-view+json": {
       "model_id": "9a95ea4e89d34cb1b8d4caabc8868f99",
       "version_major": 2,
       "version_minor": 0
      },
      "text/plain": [
       "HBox(children=(VBox(children=(IntSlider(value=0, description='a'), IntSlider(value=0, description='b'), IntSli…"
      ]
     },
     "metadata": {},
     "output_type": "display_data"
    }
   ],
   "source": [
    "a = widgets.IntSlider(description='a')\n",
    "b = widgets.IntSlider(description='b')\n",
    "c = widgets.IntSlider(description='c')\n",
    "def f(a, b, c):\n",
    "    print('{}*{}*{}={}'.format(a, b, c, a*b*c))\n",
    "out = widgets.interactive_output(f, {'a': a, 'b': b, 'c': c})\n",
    "widgets.HBox([widgets.VBox([a, b, c]), out])\n"
   ]
  },
  {
   "cell_type": "code",
   "execution_count": 41,
   "id": "4b2e7dcc",
   "metadata": {},
   "outputs": [],
   "source": [
    "vbox = widgets.VBox()\n",
    "hbox = widgets.HBox()\n",
    "\n",
    "hbox.children = ([widgets.Label(\"Operation\"), widgets.Label(\"X\"), widgets.Label(\"Y\")])\n",
    "vbox.children = tuple([hbox,])\n",
    "\n"
   ]
  },
  {
   "cell_type": "code",
   "execution_count": 42,
   "id": "d49945a4",
   "metadata": {},
   "outputs": [
    {
     "data": {
      "application/vnd.jupyter.widget-view+json": {
       "model_id": "72d4e811833049fb8045e95eebec0eb2",
       "version_major": 2,
       "version_minor": 0
      },
      "text/plain": [
       "VBox(children=(HBox(children=(Label(value='Operation'), Label(value='X'), Label(value='Y'))), HBox(children=(L…"
      ]
     },
     "metadata": {},
     "output_type": "display_data"
    }
   ],
   "source": [
    "hbox = widgets.HBox()\n",
    "\n",
    "hbox.children = ([widgets.Label(\"Start\"), widgets.Label(\"9.0\"), widgets.Label(\"1.0\")])\n",
    "vbox.children = vbox.children + tuple([hbox,])\n",
    "vbox\n",
    "\n"
   ]
  },
  {
   "cell_type": "markdown",
   "id": "96cada8e",
   "metadata": {},
   "source": []
  },
  {
   "cell_type": "markdown",
   "id": "27385e3f",
   "metadata": {},
   "source": []
  }
 ],
 "metadata": {
  "kernelspec": {
   "display_name": "Python 3 (ipykernel)",
   "language": "python",
   "name": "python3"
  },
  "language_info": {
   "codemirror_mode": {
    "name": "ipython",
    "version": 3
   },
   "file_extension": ".py",
   "mimetype": "text/x-python",
   "name": "python",
   "nbconvert_exporter": "python",
   "pygments_lexer": "ipython3",
   "version": "3.8.5"
  }
 },
 "nbformat": 4,
 "nbformat_minor": 5
}
