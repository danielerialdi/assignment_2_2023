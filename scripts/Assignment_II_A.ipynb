{
 "cells": [
  {
   "cell_type": "code",
   "execution_count": 15,
   "id": "2daa1e52",
   "metadata": {},
   "outputs": [],
   "source": [
    "%matplotlib widget\n",
    "import numpy as np\n",
    "import matplotlib.pyplot as plt \n",
    "import jupyros as jr\n",
    "import rospy\n",
    "from nav_msgs.msg import Odometry \n",
    "import ipywidgets as widgets\n",
    "from ipywidgets import interact, interactive\n",
    "from IPython.display import display\n",
    "import assignment_2_2023.msg\n",
    "from assignment_2_2023.msg import PlanningAction\n",
    "from assignment_2_2023.msg import Info\n",
    "import actionlib\n",
    "import actionlib.msg\n",
    "from matplotlib.widgets import TextBox\n"
   ]
  },
  {
   "cell_type": "code",
   "execution_count": 16,
   "id": "7b4beaf1",
   "metadata": {},
   "outputs": [],
   "source": [
    "def on_odom(msg):\n",
    "    global info, pub_info, hbox_1, hbox_2, info_old\n",
    "    pos = msg.pose.pose.position\n",
    "\t\n",
    "\t# Get the current velocity\n",
    "    vel_linear_x = msg.twist.twist.linear.x\n",
    "    vel_angular_z = msg.twist.twist.angular.z\n",
    "    \n",
    "    # rospy.loginfo(\"Velocity: %f, %f\", vel_linear_x, vel_angular_z)\n",
    "    \n",
    "    # Prepare and publish the info message\n",
    "    info = Info()\n",
    "    info.x = pos.x\n",
    "    info.y = pos.y\n",
    "    info.vel_linear_x = vel_linear_x\n",
    "    info.vel_angular_z = vel_angular_z\n",
    "    pub_info.publish(info)\n",
    "    if(abs(info_old.x-info.x) > 0.1 or abs(info_old.y-info.y) > 0.1):\n",
    "        hbox_1.children = ([widgets.Label(\"{:.1f}\".format(info.x)),])\n",
    "        hbox_2.children = ([widgets.Label(\"{:.1f}\".format(info.y)),])\n",
    "        info_old = info"
   ]
  },
  {
   "cell_type": "code",
   "execution_count": 18,
   "id": "f4c399a5",
   "metadata": {},
   "outputs": [
    {
     "data": {
      "text/plain": [
       "True"
      ]
     },
     "execution_count": 18,
     "metadata": {},
     "output_type": "execute_result"
    }
   ],
   "source": [
    "global client, pub_info, info_old\n",
    "info_old = Info()\n",
    "info_old.x = 0.0\n",
    "info_old.y = 0.0\n",
    "hbox_1 = widgets.HBox()\n",
    "hbox_2 = widgets.HBox()\n",
    "\n",
    "rospy.init_node('client_node')\n",
    "\n",
    "# sub_odom is a subscriber that receives Odometry data\n",
    "sub_odom = rospy.Subscriber(\"/odom\", Odometry, on_odom)\n",
    "\n",
    "# info_pub is a publisher that sends the info (x,y,vel_linear_x, vel_angular_z)\n",
    "pub_info = rospy.Publisher('/info_pos_vel', Info, queue_size = 1)\n",
    "\n",
    "client = actionlib.SimpleActionClient('/reaching_goal', PlanningAction)\n",
    "client.wait_for_server()\n",
    "\n"
   ]
  },
  {
   "cell_type": "code",
   "execution_count": 17,
   "id": "2cb80611",
   "metadata": {},
   "outputs": [],
   "source": [
    "\n",
    "def on_coordinates_sent(b):\n",
    "    global x_coordinate, y_coordinate, client, info, vbox, html_code_vertical_shorter\n",
    "    if(b.description == \"Cancel\"):\n",
    "        b.description = \"Send Coordinates\"\n",
    "        client.cancel_goal()\n",
    "        \n",
    "        \n",
    "        hbox = widgets.HBox()\n",
    "        hbox_try0 = widgets.HBox((widgets.Label(\"Deleted\"),))\n",
    "        hbox_try1 = widgets.HBox((widgets.Label(\"{:.1f}\".format(info.x)),))\n",
    "        hbox_try2 = widgets.HBox((widgets.Label(\"{:.1f}\".format(info.y)),))\n",
    "        hbox_try0.layout = widgets.Layout(width='33%', height='20px', overflow_y='hidden', justify_content='center', align_items='center')\n",
    "        hbox_try1.layout = widgets.Layout(width='33%', height='20px', overflow_y='hidden', justify_content='center', align_items='center')\n",
    "        hbox_try2.layout = widgets.Layout(width='33%', height='20px', overflow_y='hidden', justify_content='center', align_items='center')\n",
    "\n",
    "\n",
    "        hbox.children = ([hbox_try0, widgets.HTML(html_code_vertical_shorter), hbox_try1, widgets.HTML(html_code_vertical_shorter), hbox_try2])\n",
    "        vbox.children = vbox.children + tuple([hbox,])\n",
    "        vbox\n",
    "        \n",
    "    elif(b.description == \"Send Coordinates\"):\n",
    "        goal = assignment_2_2023.msg.PlanningGoal()\n",
    "        goal.target_pose.pose.position.x = x_coordinate.value\n",
    "        goal.target_pose.pose.position.y = y_coordinate.value\n",
    "        \n",
    "        hbox = widgets.HBox()\n",
    "        hbox_try0 = widgets.HBox((widgets.Label(\"Start\"),))\n",
    "        hbox_try1 = widgets.HBox((widgets.Label(str(x_coordinate.value)),))\n",
    "        hbox_try2 = widgets.HBox((widgets.Label(str(y_coordinate.value)),))\n",
    "        hbox_try0.layout = widgets.Layout(width='33%', height='20px', overflow_y='hidden', justify_content='center', align_items='center')\n",
    "        hbox_try1.layout = widgets.Layout(width='33%', height='20px', overflow_y='hidden', justify_content='center', align_items='center')\n",
    "        hbox_try2.layout = widgets.Layout(width='33%', height='20px', overflow_y='hidden', justify_content='center', align_items='center')\n",
    "\n",
    "        hbox.children = ([hbox_try0, widgets.HTML(html_code_vertical_shorter), hbox_try1, widgets.HTML(html_code_vertical_shorter), hbox_try2])\n",
    "        vbox.children = vbox.children + tuple([hbox,])\n",
    "        vbox\n",
    "        \n",
    "        rospy.loginfo(\"Goal set to x = %f, y = %f\", goal.target_pose.pose.position.x, goal.target_pose.pose.position.y)\n",
    "        client.send_goal(goal)\n",
    "        print(\"Coordinates sent with x = %.1f, y = %.1f\" % (x_coordinate.value, y_coordinate.value))\n",
    "        b.description = \"Cancel\""
   ]
  },
  {
   "cell_type": "code",
   "execution_count": 22,
   "id": "2ba7e6dd",
   "metadata": {},
   "outputs": [
    {
     "data": {
      "application/vnd.jupyter.widget-view+json": {
       "model_id": "41b4ff2155e64c58a53e0c75d150fd54",
       "version_major": 2,
       "version_minor": 0
      },
      "text/plain": [
       "FloatSlider(value=0.0, continuous_update=False, description='X:', max=9.0, min=-9.0)"
      ]
     },
     "metadata": {},
     "output_type": "display_data"
    },
    {
     "data": {
      "application/vnd.jupyter.widget-view+json": {
       "model_id": "4de6aff4c93d4dbbaf97e3f58015941e",
       "version_major": 2,
       "version_minor": 0
      },
      "text/plain": [
       "FloatSlider(value=1.0, continuous_update=False, description='Y:', max=9.0, min=-9.0)"
      ]
     },
     "metadata": {},
     "output_type": "display_data"
    },
    {
     "data": {
      "application/vnd.jupyter.widget-view+json": {
       "model_id": "647386dbd9644500883e6053e5f833b6",
       "version_major": 2,
       "version_minor": 0
      },
      "text/plain": [
       "Button(description='Cancel', layout=Layout(height='60px', width='50%'), style=ButtonStyle(button_color='orange…"
      ]
     },
     "metadata": {},
     "output_type": "display_data"
    },
    {
     "data": {
      "application/vnd.jupyter.widget-view+json": {
       "model_id": "4e4b998861fa4bd1af16800ee81d7a43",
       "version_major": 2,
       "version_minor": 0
      },
      "text/plain": [
       "Output()"
      ]
     },
     "metadata": {},
     "output_type": "display_data"
    },
    {
     "data": {
      "application/vnd.jupyter.widget-view+json": {
       "model_id": "dca992fb64bf4cfc9a86f7235a3a1bea",
       "version_major": 2,
       "version_minor": 0
      },
      "text/plain": [
       "VBox(children=(HTML(value='<hr style=\"border-top: 1px solid #000;\">'), HBox(children=(HTML(value='<div style=\"…"
      ]
     },
     "metadata": {},
     "output_type": "display_data"
    },
    {
     "data": {
      "application/vnd.jupyter.widget-view+json": {
       "model_id": "abb5f3eeb7844e95ab1250dc5c8b7696",
       "version_major": 2,
       "version_minor": 0
      },
      "text/plain": [
       "VBox(children=(HBox(children=(HBox(children=(Label(value='Operation'),), layout=Layout(align_items='center', h…"
      ]
     },
     "metadata": {},
     "output_type": "display_data"
    },
    {
     "name": "stdout",
     "output_type": "stream",
     "text": [
      "[INFO] [1712050825.754560, 5767.706000]: Goal set to x = 0.000000, y = 1.000000\n",
      "Coordinates sent with x = 0.0, y = 1.0\n",
      "[INFO] [1712050835.623813, 5774.723000]: Goal set to x = 0.000000, y = -2.200000\n",
      "Coordinates sent with x = 0.0, y = -2.2\n"
     ]
    }
   ],
   "source": [
    "global x_coordinate, y_coordinate, send_coordinates, vbox, hbox_1, hbox_2, html_code_vertical_shorter\n",
    "\n",
    "x_coordinate = widgets.FloatSlider( \n",
    "value=0.0,\n",
    "min=-9.0, \n",
    "max=9.0, \n",
    "step=0.1,\n",
    "description='X:', \n",
    "disabled=False, \n",
    "continuous_update=False, \n",
    "orientation='horizontal', \n",
    "readout=True\n",
    ")\n",
    "y_coordinate = widgets.FloatSlider( \n",
    "value=1.0,\n",
    "min= -9.0, \n",
    "max=9.0, \n",
    "step=0.1,\n",
    "description='Y:', \n",
    "disabled=False, \n",
    "continuous_update=False, \n",
    "orientation='horizontal', \n",
    "readout=True\n",
    ")\n",
    "display(x_coordinate, y_coordinate)\n",
    "\n",
    "send_coordinates = widgets.Button(description=\"Send Coordinates\", layout=widgets.Layout(width='50%', height='60px', color='black', font_weight='bold'))\n",
    "send_coordinates.style.button_color = 'orange'\n",
    "send_coordinates.style.font_weight = 'bold'\n",
    "output = widgets.Output()\n",
    "display(send_coordinates, output)\n",
    "send_coordinates.on_click(on_coordinates_sent)\n",
    "\n",
    "## Show interactive robot position\n",
    "hbox_coordinates = widgets.HBox()\n",
    "hbox_0 = widgets.HBox((widgets.Label(\"Coordinates:\"),))\n",
    "hbox_0.layout = widgets.Layout(width='33%', height='60px', overflow_y='hidden',justify_content='center', align_items='center')\n",
    "hbox_1 = widgets.HBox((widgets.Label(\"{:.1f}\".format(0.0)),))\n",
    "hbox_1.layout = widgets.Layout(width='33%', height='60px', overflow_y='hidden', justify_content='center', align_items='center')\n",
    "hbox_2 = widgets.HBox((widgets.Label(\"{:.1f}\".format(1.0)),))\n",
    "hbox_2.layout = widgets.Layout(width='33%', height='60px', overflow_y='hidden', justify_content='center', align_items='center')\n",
    "html_code_vertical = '<div style=\"border-left: 1px solid #000; height: 100px;\"></div>'\n",
    "html_code_vertical_shorter = '<div style=\"border-left: 1px solid #000; height: 20px;\"></div>'\n",
    "\n",
    "html_code_horizontal = '<hr style=\"border-top: 1px solid #000;\">'\n",
    "\n",
    "\n",
    "hbox_coordinates.layout = widgets.Layout(width='100%', height='60px', overflow_y='hidden', )\n",
    "\n",
    "vbox_coordinates = widgets.VBox()\n",
    "vbox_coordinates.layout = widgets.Layout(width='100%', height='100px', overflow_y='hidden')\n",
    "# hbox_coordinates_0 = widgets.HBox([hbox_0, hbox_1, hbox_2])\n",
    "hbox_coordinates.children = [widgets.HTML(html_code_vertical), hbox_0, widgets.HTML(html_code_vertical), hbox_1, widgets.HTML(html_code_vertical), hbox_2, widgets.HTML(html_code_vertical)]\n",
    "vbox_coordinates.children = [widgets.HTML(html_code_horizontal), hbox_coordinates, widgets.HTML(html_code_horizontal)]\n",
    "# display(widgets.HTML(html_code_horizontal))\n",
    "# display(hbox_coordinates)\n",
    "#textbox = TextBox('Text:', initial=\"Initial Text\", color='gray', hovercolor='cyan')\n",
    "display(vbox_coordinates)\n",
    "## Show table with coordinates\n",
    "# Display the tables\n",
    "vbox = widgets.VBox()\n",
    "hbox = widgets.HBox()\n",
    "hbox_try0 = widgets.HBox((widgets.Label(\"Operation\"),))\n",
    "hbox_try1 = widgets.HBox((widgets.Label(\"X\"),))\n",
    "hbox_try2 = widgets.HBox((widgets.Label(\"Y\"),))\n",
    "hbox_try0.layout = widgets.Layout(width='33%', height='20px', overflow_y='hidden', justify_content='center', align_items='center')\n",
    "hbox_try1.layout = widgets.Layout(width='33%', height='20px', overflow_y='hidden', justify_content='center', align_items='center')\n",
    "hbox_try2.layout = widgets.Layout(width='33%', height='20px', overflow_y='hidden', justify_content='center', align_items='center')\n",
    "\n",
    "hbox.children = ([hbox_try0, widgets.HTML(html_code_vertical_shorter), hbox_try1, widgets.HTML(html_code_vertical_shorter), hbox_try2])\n",
    "vbox.children = tuple([hbox,])\n",
    "display(vbox)\n",
    "\n"
   ]
  },
  {
   "cell_type": "code",
   "execution_count": 20,
   "id": "74ceabac",
   "metadata": {},
   "outputs": [],
   "source": []
  }
 ],
 "metadata": {
  "kernelspec": {
   "display_name": "Python 3 (ipykernel)",
   "language": "python",
   "name": "python3"
  },
  "language_info": {
   "codemirror_mode": {
    "name": "ipython",
    "version": 3
   },
   "file_extension": ".py",
   "mimetype": "text/x-python",
   "name": "python",
   "nbconvert_exporter": "python",
   "pygments_lexer": "ipython3",
   "version": "3.8.5"
  }
 },
 "nbformat": 4,
 "nbformat_minor": 5
}
