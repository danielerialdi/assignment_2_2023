{
 "cells": [
  {
   "cell_type": "code",
   "execution_count": 1,
   "id": "2daa1e52",
   "metadata": {},
   "outputs": [],
   "source": [
    "%matplotlib widget\n",
    "import numpy as np\n",
    "import matplotlib.pyplot as plt \n",
    "import jupyros as jr\n",
    "import rospy\n",
    "from nav_msgs.msg import Odometry \n",
    "import ipywidgets as widgets\n",
    "from ipywidgets import interact, interactive\n",
    "import IPython\n",
    "from IPython.display import display, Markdown\n",
    "import assignment_2_2023.msg\n",
    "from assignment_2_2023.msg import PlanningAction\n",
    "from assignment_2_2023.msg import Info\n",
    "import actionlib\n",
    "import actionlib.msg\n",
    "\n"
   ]
  },
  {
   "cell_type": "code",
   "execution_count": 2,
   "id": "a40889a7",
   "metadata": {},
   "outputs": [],
   "source": [
    "def on_feedback(action_feedback):\n",
    "    global send_coordinates\n",
    "    \n",
    "    # We can preempt the robot only if the state machine is in the \"ACTIVE\" status\n",
    "    if(action_feedback.status.status == action_feedback.status.ACTIVE):\n",
    "        send_coordinates.description = \"Cancel\"\n",
    "        send_coordinates.style.button_color = 'red'\n",
    "        \n",
    "    else:\n",
    "        send_coordinates.description = \"Send Coordinates\"\n",
    "        send_coordinates.style.button_color = 'green'\n",
    "        \n"
   ]
  },
  {
   "cell_type": "code",
   "execution_count": 3,
   "id": "7d1e86fc",
   "metadata": {},
   "outputs": [],
   "source": [
    "\n",
    "def on_result(action_result):\n",
    "    global send_coordinates\n",
    "    # We can preempt the robot only if the state machine is not in the \"SUCCEEDED\" or in the \"PREEMPTED\" status\n",
    "    if(not(action_result.status.status == action_result.status.SUCCEEDED or action_result.status.status == action_result.status.PREEMPTED)):\n",
    "        send_coordinates.description = \"Cancel\"\n",
    "        send_coordinates.style.button_color = 'red'\n",
    "        \n",
    "    else:\n",
    "        send_coordinates.description = \"Send Coordinates\"\n",
    "        send_coordinates.style.button_color = 'green'\n",
    "\n"
   ]
  },
  {
   "cell_type": "code",
   "execution_count": 4,
   "id": "7b4beaf1",
   "metadata": {},
   "outputs": [],
   "source": [
    "def on_odom(msg):\n",
    "    global info, pub_info, hbox_1, hbox_2, info_old\n",
    "    pos = msg.pose.pose.position\n",
    "\t\n",
    "\t# Get the current velocity\n",
    "    vel_linear_x = msg.twist.twist.linear.x\n",
    "    vel_angular_z = msg.twist.twist.angular.z\n",
    "    \n",
    "    # Prepare and publish the info message\n",
    "    info = Info()\n",
    "    info.x = pos.x\n",
    "    info.y = pos.y\n",
    "    info.vel_linear_x = vel_linear_x\n",
    "    info.vel_angular_z = vel_angular_z\n",
    "    pub_info.publish(info)\n",
    "    if(abs(info_old.x-info.x) >= 0.1 or abs(info_old.y-info.y) >= 0.1):\n",
    "        hbox_1.children = ([widgets.Label(\"{:.1f}\".format(info.x)),])\n",
    "        hbox_2.children = ([widgets.Label(\"{:.1f}\".format(info.y)),])\n",
    "        info_old = info"
   ]
  },
  {
   "cell_type": "code",
   "execution_count": 5,
   "id": "f4c399a5",
   "metadata": {},
   "outputs": [
    {
     "data": {
      "text/plain": [
       "True"
      ]
     },
     "execution_count": 5,
     "metadata": {},
     "output_type": "execute_result"
    }
   ],
   "source": [
    "global client, pub_info, info_old, send_coordinates\n",
    "info_old = Info()\n",
    "info_old.x = 0.0\n",
    "info_old.y = 0.0\n",
    "hbox_1 = widgets.HBox()\n",
    "hbox_2 = widgets.HBox()\n",
    "send_coordinates = widgets.Button()\n",
    "rospy.init_node('client_node')\n",
    "\n",
    "# sub_odom is a subscriber that receives Odometry data\n",
    "sub_odom = rospy.Subscriber(\"/odom\", Odometry, on_odom)\n",
    "\n",
    "# Subscriber for feedback/status\n",
    "sub_feedback = rospy.Subscriber(\"/reaching_goal/feedback\",assignment_2_2023.msg.PlanningActionFeedback, on_feedback)\n",
    "    \n",
    "# Subscriber for result\n",
    "sub_result = rospy.Subscriber(\"/reaching_goal/result\",assignment_2_2023.msg.PlanningActionResult, on_result)\n",
    "\n",
    "# info_pub is a publisher that sends the info (x,y,vel_linear_x, vel_angular_z)\n",
    "pub_info = rospy.Publisher('/info_pos_vel', Info, queue_size = 1)\n",
    "\n",
    "client = actionlib.SimpleActionClient('/reaching_goal', PlanningAction)\n",
    "client.wait_for_server()\n",
    "\n"
   ]
  },
  {
   "cell_type": "code",
   "execution_count": 6,
   "id": "2cb80611",
   "metadata": {},
   "outputs": [],
   "source": [
    "\n",
    "def on_coordinates_sent(b):\n",
    "    global x_coordinate, y_coordinate, client, info, vbox, html_code_vertical_shorter\n",
    "    if(b.description == \"Cancel\"):\n",
    "        b.description = \"Send Coordinates\"\n",
    "        b.style.button_color = 'green'\n",
    "        client.cancel_goal()\n",
    "        \n",
    "        hbox = widgets.HBox()\n",
    "        hbox_try0 = widgets.HBox((widgets.Label(value = \"Deleted\"),))\n",
    "        hbox_try1 = widgets.HBox((widgets.Label(\"{:.1f}\".format(info.x)),))\n",
    "        hbox_try2 = widgets.HBox((widgets.Label(\"{:.1f}\".format(info.y)),))\n",
    "        hbox_try0.layout = widgets.Layout(width='33%', height='20px', overflow_y='hidden', justify_content='center', align_items='center')\n",
    "        hbox_try1.layout = widgets.Layout(width='33%', height='20px', overflow_y='hidden', justify_content='center', align_items='center')\n",
    "        hbox_try2.layout = widgets.Layout(width='33%', height='20px', overflow_y='hidden', justify_content='center', align_items='center')\n",
    "\n",
    "\n",
    "        hbox.children = ([widgets.HTML(html_code_vertical_shorter), hbox_try0, widgets.HTML(html_code_vertical_shorter), hbox_try1, widgets.HTML(html_code_vertical_shorter), hbox_try2, widgets.HTML(html_code_vertical_shorter)])\n",
    "        vbox.children = vbox.children + tuple([hbox,])\n",
    "        vbox\n",
    "        \n",
    "    elif(b.description == \"Send Coordinates\"):\n",
    "        b.description = \"Cancel\"\n",
    "        b.style.button_color = 'red'\n",
    "        goal = assignment_2_2023.msg.PlanningGoal()\n",
    "        goal.target_pose.pose.position.x = x_coordinate.value\n",
    "        goal.target_pose.pose.position.y = y_coordinate.value\n",
    "        \n",
    "        hbox = widgets.HBox()\n",
    "        hbox_try0 = widgets.HBox((widgets.Label(\"Start\"),))\n",
    "        hbox_try1 = widgets.HBox((widgets.Label(str(x_coordinate.value)),))\n",
    "        hbox_try2 = widgets.HBox((widgets.Label(str(y_coordinate.value)),))\n",
    "        hbox_try0.layout = widgets.Layout(width='33%', height='20px', overflow_y='hidden', justify_content='center', align_items='center')\n",
    "        hbox_try1.layout = widgets.Layout(width='33%', height='20px', overflow_y='hidden', justify_content='center', align_items='center')\n",
    "        hbox_try2.layout = widgets.Layout(width='33%', height='20px', overflow_y='hidden', justify_content='center', align_items='center')\n",
    "\n",
    "        hbox.children = ([widgets.HTML(html_code_vertical_shorter), hbox_try0, widgets.HTML(html_code_vertical_shorter), hbox_try1, widgets.HTML(html_code_vertical_shorter), hbox_try2, widgets.HTML(html_code_vertical_shorter)])\n",
    "        vbox.children = vbox.children + tuple([hbox,])\n",
    "        vbox\n",
    "        \n",
    "        client.send_goal(goal)\n",
    "        "
   ]
  },
  {
   "cell_type": "code",
   "execution_count": 7,
   "id": "2ba7e6dd",
   "metadata": {},
   "outputs": [
    {
     "data": {
      "text/markdown": [
       "<div style=\"font-family: Arial; font-size: 18px;\">Choose X and Y coordinates to be reached from the robot</div>"
      ],
      "text/plain": [
       "<IPython.core.display.Markdown object>"
      ]
     },
     "metadata": {},
     "output_type": "display_data"
    },
    {
     "data": {
      "application/vnd.jupyter.widget-view+json": {
       "model_id": "732f9cd1fd0e41c8924813f16eb1e37c",
       "version_major": 2,
       "version_minor": 0
      },
      "text/plain": [
       "VBox(children=(FloatSlider(value=-0.1, continuous_update=False, description='X:', max=9.0, min=-9.0), FloatSli…"
      ]
     },
     "metadata": {},
     "output_type": "display_data"
    },
    {
     "data": {
      "text/markdown": [
       "<div style=\"font-family: Arial; font-size: 18px;\">Current coordinates of the robot</div>"
      ],
      "text/plain": [
       "<IPython.core.display.Markdown object>"
      ]
     },
     "metadata": {},
     "output_type": "display_data"
    },
    {
     "data": {
      "application/vnd.jupyter.widget-view+json": {
       "model_id": "cebf7c5e6eb74c82ac749a6d384125de",
       "version_major": 2,
       "version_minor": 0
      },
      "text/plain": [
       "VBox(children=(HTML(value='<hr style=\"border-top: 1px solid #000;\">'), HBox(children=(HTML(value='<div style=\"…"
      ]
     },
     "metadata": {},
     "output_type": "display_data"
    },
    {
     "data": {
      "text/markdown": [
       "<div style=\"font-family: Arial; font-size: 18px;\">Here the sets of sent and canceled goals are shown</div>"
      ],
      "text/plain": [
       "<IPython.core.display.Markdown object>"
      ]
     },
     "metadata": {},
     "output_type": "display_data"
    },
    {
     "data": {
      "application/vnd.jupyter.widget-view+json": {
       "model_id": "651c7d6915b747a7a55a84017acb4215",
       "version_major": 2,
       "version_minor": 0
      },
      "text/plain": [
       "VBox(children=(HTML(value='<hr style=\"border-top: 1px solid #000;\">'), HBox(children=(HTML(value='<div style=\"…"
      ]
     },
     "metadata": {},
     "output_type": "display_data"
    }
   ],
   "source": [
    "global x_coordinate, y_coordinate, send_coordinates, vbox, hbox_1, hbox_2, html_code_vertical_shorter, info\n",
    "\n",
    "# Important html lines used later to create the layout of the tables\n",
    "html_code_vertical = '<div style=\"border-left: 1px solid #000; height: 100px;\"></div>'\n",
    "html_code_vertical_shorter = '<div style=\"border-left: 1px solid #000; height: 20px;\"></div>'\n",
    "html_code_horizontal = '<hr style=\"border-top: 1px solid #000;\">'\n",
    "\n",
    "# Float sliders declarations\n",
    "x_coordinate = widgets.FloatSlider( \n",
    "value = \"{:.1f}\".format(info.x),\n",
    "min = -9.0, \n",
    "max = 9.0, \n",
    "step = 0.1,\n",
    "description = 'X:', \n",
    "disabled = False, \n",
    "continuous_update = False, \n",
    "orientation = 'horizontal', \n",
    "readout = True\n",
    ")\n",
    "y_coordinate = widgets.FloatSlider( \n",
    "value = \"{:.1f}\".format(info.y),\n",
    "min = -9.0, \n",
    "max = 9.0, \n",
    "step = 0.1,\n",
    "description = 'Y:', \n",
    "disabled = False, \n",
    "continuous_update = False, \n",
    "orientation = 'horizontal', \n",
    "readout = True\n",
    ")\n",
    "\n",
    "# Markdown with HTML syntax for font and size\n",
    "introduction = f'<div style=\"font-family: Arial; font-size: 18px;\">Choose X and Y coordinates to be reached from the robot</div>'\n",
    "# This part is where the user can choose the coordinates\n",
    "display(Markdown(introduction))\n",
    "\"\"\"\n",
    "The user can choose here the coorddinates for the robot to reach, thanks to two float sliders.\n",
    "To send these coordinates to the robot, the user can click on the button \"Send Coordinates\".\n",
    "When the robot is moving towards the coordinates, the button will change to \"Cancel\", and the user\n",
    "has the possibility to cancel the operation by clicking on the button; in that case the button will\n",
    "change back to \"Send Coordinates\".\n",
    "\"\"\"\n",
    "vbox_floatsliders = widgets.VBox()\n",
    "vbox_floatsliders.layout = widgets.Layout(width='100%', height='100%', overflow_y='hidden', justify_content='center', align_items='center')\n",
    "send_coordinates = widgets.Button(description=\"Send Coordinates\", layout=widgets.Layout(width='50%', height='60px', color='black', font_weight='bold'))\n",
    "send_coordinates.style.button_color = 'green'\n",
    "send_coordinates.style.font_weight = 'bold'\n",
    "hbox_button = widgets.HBox()\n",
    "hbox_button.layout = widgets.Layout(width='75%', height='100%', overflow_y='hidden', justify_content='center', align_items='center')\n",
    "hbox_button.children = [send_coordinates]\n",
    "vbox_floatsliders.children = (x_coordinate, y_coordinate, hbox_button)\n",
    "display(vbox_floatsliders)\n",
    "send_coordinates.on_click(on_coordinates_sent)\n",
    "\n",
    "current_coordinates_text = f'<div style=\"font-family: Arial; font-size: 18px;\">Current coordinates of the robot</div>'\n",
    "# This part shows the current coordinates of the robot\n",
    "display(Markdown(current_coordinates_text))\n",
    "\"\"\"\n",
    "Here it is possible to look at the current position of the robot, with the x and y coordinates shown in the table below.\n",
    "The coordinates are updated in real time, rounded to the first decimal.\n",
    "\"\"\"\n",
    "hbox_0 = widgets.HBox((widgets.Label(\"Coordinates:\"),))\n",
    "hbox_0.layout = widgets.Layout(width='33%', height='60px', overflow_y='hidden',justify_content='center', align_items='center')\n",
    "hbox_1 = widgets.HBox((widgets.Label(\"{:.1f}\".format(info.x)),))\n",
    "hbox_1.layout = widgets.Layout(width='33%', height='60px', overflow_y='hidden', justify_content='center', align_items='center')\n",
    "hbox_2 = widgets.HBox((widgets.Label(\"{:.1f}\".format(info.y)),))\n",
    "hbox_2.layout = widgets.Layout(width='33%', height='60px', overflow_y='hidden', justify_content='center', align_items='center')\n",
    "\n",
    "hbox_coordinates = widgets.HBox()\n",
    "hbox_coordinates.layout = widgets.Layout(width='100%', height='60px', overflow_y='hidden', )\n",
    "vbox_coordinates = widgets.VBox()\n",
    "vbox_coordinates.layout = widgets.Layout(width='100%', height='100px', overflow_y='hidden')\n",
    "hbox_coordinates.children = [widgets.HTML(html_code_vertical), hbox_0, widgets.HTML(html_code_vertical), hbox_1, widgets.HTML(html_code_vertical), hbox_2, widgets.HTML(html_code_vertical)]\n",
    "vbox_coordinates.children = [widgets.HTML(html_code_horizontal), hbox_coordinates, widgets.HTML(html_code_horizontal)]\n",
    "\n",
    "display(vbox_coordinates)\n",
    "\n",
    "sets_of_coordinates_text = f'<div style=\"font-family: Arial; font-size: 18px;\">Here the sets of sent and canceled goals are shown</div>'\n",
    "# Markdown for the sets of goals reached/cancelled\n",
    "display(Markdown(sets_of_coordinates_text))\n",
    "\"\"\"\n",
    "This is done for the coordinates reached by the robot\n",
    "A table is created with the coordinates reached by the robot, created with vboxes and hboxes\n",
    "\"\"\"\n",
    "vbox = widgets.VBox()\n",
    "hbox = widgets.HBox()\n",
    "hbox_try0 = widgets.HBox((widgets.Label(\"Operation\"),))\n",
    "hbox_try1 = widgets.HBox((widgets.Label(\"X\"),))\n",
    "hbox_try2 = widgets.HBox((widgets.Label(\"Y\"),))\n",
    "hbox_try0.layout = widgets.Layout(width='33%', height='20px', overflow_y='hidden', justify_content='center', align_items='center')\n",
    "hbox_try1.layout = widgets.Layout(width='33%', height='20px', overflow_y='hidden', justify_content='center', align_items='center')\n",
    "hbox_try2.layout = widgets.Layout(width='33%', height='20px', overflow_y='hidden', justify_content='center', align_items='center')\n",
    "\n",
    "hbox.children = ([widgets.HTML(html_code_vertical_shorter), hbox_try0, widgets.HTML(html_code_vertical_shorter), hbox_try1, widgets.HTML(html_code_vertical_shorter), hbox_try2, widgets.HTML(html_code_vertical_shorter)])\n",
    "vbox.children = tuple([widgets.HTML(html_code_horizontal), hbox, widgets.HTML(html_code_horizontal),])\n",
    "display(vbox)\n",
    "\n"
   ]
  },
  {
   "cell_type": "code",
   "execution_count": null,
   "id": "74ceabac",
   "metadata": {},
   "outputs": [],
   "source": []
  }
 ],
 "metadata": {
  "kernelspec": {
   "display_name": "Python 3 (ipykernel)",
   "language": "python",
   "name": "python3"
  },
  "language_info": {
   "codemirror_mode": {
    "name": "ipython",
    "version": 3
   },
   "file_extension": ".py",
   "mimetype": "text/x-python",
   "name": "python",
   "nbconvert_exporter": "python",
   "pygments_lexer": "ipython3",
   "version": "3.8.5"
  }
 },
 "nbformat": 4,
 "nbformat_minor": 5
}
