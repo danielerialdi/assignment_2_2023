{
 "cells": [
  {
   "cell_type": "code",
   "execution_count": 8,
   "id": "2daa1e52",
   "metadata": {},
   "outputs": [],
   "source": [
    "%matplotlib widget\n",
    "import numpy as np\n",
    "import matplotlib.pyplot as plt \n",
    "from matplotlib.animation import FuncAnimation\n",
    "import jupyros as jr\n",
    "import rospy\n",
    "from nav_msgs.msg import Odometry \n",
    "import ipywidgets as widgets\n",
    "from ipywidgets import interact, interactive\n",
    "import IPython\n",
    "from IPython.display import display, Markdown\n",
    "import assignment_2_2023.msg\n",
    "from assignment_2_2023.msg import PlanningAction\n",
    "from assignment_2_2023.msg import Info\n",
    "import actionlib\n",
    "import actionlib.msg\n",
    "\n"
   ]
  },
  {
   "cell_type": "code",
   "execution_count": 9,
   "id": "a40889a7",
   "metadata": {},
   "outputs": [],
   "source": [
    "def on_feedback(action_feedback):\n",
    "    global send_coordinates\n",
    "    \n",
    "    # We can preempt the robot only if the state machine is in the \"ACTIVE\" status\n",
    "    if(action_feedback.status.status == action_feedback.status.ACTIVE):\n",
    "        send_coordinates.description = \"Cancel\"\n",
    "        send_coordinates.style.button_color = 'red'\n",
    "        \n",
    "    else:\n",
    "        send_coordinates.description = \"Send Coordinates\"\n",
    "        send_coordinates.style.button_color = 'green'\n",
    "        \n"
   ]
  },
  {
   "cell_type": "code",
   "execution_count": 10,
   "id": "7d1e86fc",
   "metadata": {},
   "outputs": [],
   "source": [
    "\n",
    "def on_result(action_result):\n",
    "    global send_coordinates\n",
    "    # We can preempt the robot only if the state machine is not in the \"SUCCEEDED\" or in the \"PREEMPTED\" status\n",
    "    if(not(action_result.status.status == action_result.status.SUCCEEDED or action_result.status.status == action_result.status.PREEMPTED)):\n",
    "        send_coordinates.description = \"Cancel\"\n",
    "        send_coordinates.style.button_color = 'red'\n",
    "        \n",
    "    else:\n",
    "        send_coordinates.description = \"Send Coordinates\"\n",
    "        send_coordinates.style.button_color = 'green'\n",
    "\n"
   ]
  },
  {
   "cell_type": "code",
   "execution_count": 11,
   "id": "7b4beaf1",
   "metadata": {},
   "outputs": [],
   "source": [
    "def on_odom(msg):\n",
    "    global info, pub_info, hbox_1, hbox_2, info_old\n",
    "    pos = msg.pose.pose.position\n",
    "\t\n",
    "\t# Get the current velocity\n",
    "    vel_linear_x = msg.twist.twist.linear.x\n",
    "    vel_angular_z = msg.twist.twist.angular.z\n",
    "    \n",
    "    # Prepare and publish the info message\n",
    "    info = Info()\n",
    "    info.x = pos.x\n",
    "    info.y = pos.y\n",
    "    info.vel_linear_x = vel_linear_x\n",
    "    info.vel_angular_z = vel_angular_z\n",
    "    pub_info.publish(info)\n",
    "    if(abs(info_old.x-info.x) >= 0.1 or abs(info_old.y-info.y) >= 0.1):\n",
    "        hbox_1.children = ([widgets.Label(\"{:.1f}\".format(info.x)),])\n",
    "        hbox_2.children = ([widgets.Label(\"{:.1f}\".format(info.y)),])\n",
    "        info_old = info"
   ]
  },
  {
   "cell_type": "code",
   "execution_count": 12,
   "id": "f4c399a5",
   "metadata": {},
   "outputs": [
    {
     "data": {
      "text/plain": [
       "True"
      ]
     },
     "execution_count": 12,
     "metadata": {},
     "output_type": "execute_result"
    }
   ],
   "source": [
    "global client, pub_info, info_old, send_coordinates\n",
    "info_old = Info()\n",
    "info_old.x = 0.0\n",
    "info_old.y = 0.0\n",
    "hbox_1 = widgets.HBox()\n",
    "hbox_2 = widgets.HBox()\n",
    "send_coordinates = widgets.Button()\n",
    "rospy.init_node('client_node')\n",
    "\n",
    "# sub_odom is a subscriber that receives Odometry data\n",
    "sub_odom = rospy.Subscriber(\"/odom\", Odometry, on_odom)\n",
    "\n",
    "# Subscriber for feedback/status\n",
    "sub_feedback = rospy.Subscriber(\"/reaching_goal/feedback\",assignment_2_2023.msg.PlanningActionFeedback, on_feedback)\n",
    "    \n",
    "# Subscriber for result\n",
    "sub_result = rospy.Subscriber(\"/reaching_goal/result\",assignment_2_2023.msg.PlanningActionResult, on_result)\n",
    "\n",
    "# info_pub is a publisher that sends the info (x,y,vel_linear_x, vel_angular_z)\n",
    "pub_info = rospy.Publisher('/info_pos_vel', Info, queue_size = 1)\n",
    "\n",
    "client = actionlib.SimpleActionClient('/reaching_goal', PlanningAction)\n",
    "client.wait_for_server()\n",
    "\n"
   ]
  },
  {
   "cell_type": "code",
   "execution_count": 13,
   "id": "2cb80611",
   "metadata": {},
   "outputs": [],
   "source": [
    "\n",
    "def on_coordinates_sent(b):\n",
    "    global x_coordinate, y_coordinate, client, info, vbox, html_code_vertical_shorter\n",
    "    if(b.description == \"Cancel\"):\n",
    "        b.description = \"Send Coordinates\"\n",
    "        b.style.button_color = 'green'\n",
    "        client.cancel_goal()\n",
    "        \n",
    "        hbox = widgets.HBox()\n",
    "        hbox_try0 = widgets.HBox((widgets.Label(value = \"Deleted\"),))\n",
    "        hbox_try1 = widgets.HBox((widgets.Label(\"{:.1f}\".format(info.x)),))\n",
    "        hbox_try2 = widgets.HBox((widgets.Label(\"{:.1f}\".format(info.y)),))\n",
    "        hbox_try0.layout = widgets.Layout(width='33%', height='20px', overflow_y='hidden', justify_content='center', align_items='center')\n",
    "        hbox_try1.layout = widgets.Layout(width='33%', height='20px', overflow_y='hidden', justify_content='center', align_items='center')\n",
    "        hbox_try2.layout = widgets.Layout(width='33%', height='20px', overflow_y='hidden', justify_content='center', align_items='center')\n",
    "\n",
    "\n",
    "        hbox.children = ([widgets.HTML(html_code_vertical_shorter), hbox_try0, widgets.HTML(html_code_vertical_shorter), hbox_try1, widgets.HTML(html_code_vertical_shorter), hbox_try2, widgets.HTML(html_code_vertical_shorter)])\n",
    "        vbox.children = vbox.children + tuple([hbox,])\n",
    "        vbox\n",
    "        \n",
    "    elif(b.description == \"Send Coordinates\"):\n",
    "        b.description = \"Cancel\"\n",
    "        b.style.button_color = 'red'\n",
    "        goal = assignment_2_2023.msg.PlanningGoal()\n",
    "        goal.target_pose.pose.position.x = x_coordinate.value\n",
    "        goal.target_pose.pose.position.y = y_coordinate.value\n",
    "        \n",
    "        hbox = widgets.HBox()\n",
    "        hbox_try0 = widgets.HBox((widgets.Label(\"Start\"),))\n",
    "        hbox_try1 = widgets.HBox((widgets.Label(str(x_coordinate.value)),))\n",
    "        hbox_try2 = widgets.HBox((widgets.Label(str(y_coordinate.value)),))\n",
    "        hbox_try0.layout = widgets.Layout(width='33%', height='20px', overflow_y='hidden', justify_content='center', align_items='center')\n",
    "        hbox_try1.layout = widgets.Layout(width='33%', height='20px', overflow_y='hidden', justify_content='center', align_items='center')\n",
    "        hbox_try2.layout = widgets.Layout(width='33%', height='20px', overflow_y='hidden', justify_content='center', align_items='center')\n",
    "\n",
    "        hbox.children = ([widgets.HTML(html_code_vertical_shorter), hbox_try0, widgets.HTML(html_code_vertical_shorter), hbox_try1, widgets.HTML(html_code_vertical_shorter), hbox_try2, widgets.HTML(html_code_vertical_shorter)])\n",
    "        vbox.children = vbox.children + tuple([hbox,])\n",
    "        vbox\n",
    "        \n",
    "        client.send_goal(goal)\n",
    "        "
   ]
  },
  {
   "cell_type": "code",
   "execution_count": 18,
   "id": "2ba7e6dd",
   "metadata": {},
   "outputs": [
    {
     "data": {
      "text/markdown": [
       "<div style=\"font-family: Arial; font-size: 18px;\">Choose X and Y coordinates to be reached from the robot</div>"
      ],
      "text/plain": [
       "<IPython.core.display.Markdown object>"
      ]
     },
     "metadata": {},
     "output_type": "display_data"
    },
    {
     "data": {
      "application/vnd.jupyter.widget-view+json": {
       "model_id": "a38667a3f9f84415bdfb758f2dd0d350",
       "version_major": 2,
       "version_minor": 0
      },
      "text/plain": [
       "VBox(children=(FloatSlider(value=-0.0, continuous_update=False, description='X:', max=9.0, min=-9.0), FloatSli…"
      ]
     },
     "metadata": {},
     "output_type": "display_data"
    },
    {
     "data": {
      "text/markdown": [
       "<div style=\"font-family: Arial; font-size: 18px;\">Current coordinates of the robot</div>"
      ],
      "text/plain": [
       "<IPython.core.display.Markdown object>"
      ]
     },
     "metadata": {},
     "output_type": "display_data"
    },
    {
     "data": {
      "application/vnd.jupyter.widget-view+json": {
       "model_id": "482123609e224e399568a34e5de6e015",
       "version_major": 2,
       "version_minor": 0
      },
      "text/plain": [
       "VBox(children=(HTML(value='<hr style=\"border-top: 1px solid #000;\">'), HBox(children=(HTML(value='<div style=\"…"
      ]
     },
     "metadata": {},
     "output_type": "display_data"
    },
    {
     "data": {
      "application/vnd.jupyter.widget-view+json": {
       "model_id": "5e6de854db4840bdb8fd298346f8f631",
       "version_major": 2,
       "version_minor": 0
      },
      "text/plain": [
       "Canvas(toolbar=Toolbar(toolitems=[('Home', 'Reset original view', 'home', 'home'), ('Back', 'Back to previous …"
      ]
     },
     "metadata": {},
     "output_type": "display_data"
    },
    {
     "ename": "TraitError",
     "evalue": "The 'children' trait of a HBox instance contains an Instance of a TypedTuple which expected a Widget, not the Figure <Figure size 640x480 with 1 Axes>.",
     "output_type": "error",
     "traceback": [
      "\u001b[0;31m---------------------------------------------------------------------------\u001b[0m",
      "\u001b[0;31mTraitError\u001b[0m                                Traceback (most recent call last)",
      "\u001b[0;32m/tmp/ipykernel_35954/1534731037.py\u001b[0m in \u001b[0;36m<module>\u001b[0;34m\u001b[0m\n\u001b[1;32m    102\u001b[0m \u001b[0mhbox_plot\u001b[0m \u001b[0;34m=\u001b[0m \u001b[0mwidgets\u001b[0m\u001b[0;34m.\u001b[0m\u001b[0mHBox\u001b[0m\u001b[0;34m(\u001b[0m\u001b[0;34m)\u001b[0m\u001b[0;34m\u001b[0m\u001b[0;34m\u001b[0m\u001b[0m\n\u001b[1;32m    103\u001b[0m \u001b[0mhbox_plot\u001b[0m\u001b[0;34m.\u001b[0m\u001b[0mlayout\u001b[0m \u001b[0;34m=\u001b[0m \u001b[0mwidgets\u001b[0m\u001b[0;34m.\u001b[0m\u001b[0mLayout\u001b[0m\u001b[0;34m(\u001b[0m\u001b[0mwidth\u001b[0m\u001b[0;34m=\u001b[0m\u001b[0;34m'100%'\u001b[0m\u001b[0;34m,\u001b[0m \u001b[0mheight\u001b[0m\u001b[0;34m=\u001b[0m\u001b[0;34m'100%'\u001b[0m\u001b[0;34m,\u001b[0m \u001b[0moverflow_y\u001b[0m\u001b[0;34m=\u001b[0m\u001b[0;34m'hidden'\u001b[0m\u001b[0;34m,\u001b[0m \u001b[0mjustify_content\u001b[0m\u001b[0;34m=\u001b[0m\u001b[0;34m'center'\u001b[0m\u001b[0;34m,\u001b[0m \u001b[0malign_items\u001b[0m\u001b[0;34m=\u001b[0m\u001b[0;34m'center'\u001b[0m\u001b[0;34m)\u001b[0m\u001b[0;34m\u001b[0m\u001b[0;34m\u001b[0m\u001b[0m\n\u001b[0;32m--> 104\u001b[0;31m \u001b[0mhbox_plot\u001b[0m\u001b[0;34m.\u001b[0m\u001b[0mchildren\u001b[0m \u001b[0;34m=\u001b[0m \u001b[0mtuple\u001b[0m\u001b[0;34m(\u001b[0m\u001b[0;34m[\u001b[0m\u001b[0mfig\u001b[0m\u001b[0;34m,\u001b[0m\u001b[0;34m]\u001b[0m\u001b[0;34m)\u001b[0m\u001b[0;34m\u001b[0m\u001b[0;34m\u001b[0m\u001b[0m\n\u001b[0m\u001b[1;32m    105\u001b[0m \u001b[0;31m# display(hbox_plot)\u001b[0m\u001b[0;34m\u001b[0m\u001b[0;34m\u001b[0m\u001b[0;34m\u001b[0m\u001b[0m\n\u001b[1;32m    106\u001b[0m \u001b[0;31m# plt.show()\u001b[0m\u001b[0;34m\u001b[0m\u001b[0;34m\u001b[0m\u001b[0;34m\u001b[0m\u001b[0m\n",
      "\u001b[0;32m/usr/local/lib/python3.8/dist-packages/traitlets/traitlets.py\u001b[0m in \u001b[0;36m__set__\u001b[0;34m(self, obj, value)\u001b[0m\n\u001b[1;32m    604\u001b[0m             \u001b[0;32mraise\u001b[0m \u001b[0mTraitError\u001b[0m\u001b[0;34m(\u001b[0m\u001b[0;34m'The \"%s\" trait is read-only.'\u001b[0m \u001b[0;34m%\u001b[0m \u001b[0mself\u001b[0m\u001b[0;34m.\u001b[0m\u001b[0mname\u001b[0m\u001b[0;34m)\u001b[0m\u001b[0;34m\u001b[0m\u001b[0;34m\u001b[0m\u001b[0m\n\u001b[1;32m    605\u001b[0m         \u001b[0;32melse\u001b[0m\u001b[0;34m:\u001b[0m\u001b[0;34m\u001b[0m\u001b[0;34m\u001b[0m\u001b[0m\n\u001b[0;32m--> 606\u001b[0;31m             \u001b[0mself\u001b[0m\u001b[0;34m.\u001b[0m\u001b[0mset\u001b[0m\u001b[0;34m(\u001b[0m\u001b[0mobj\u001b[0m\u001b[0;34m,\u001b[0m \u001b[0mvalue\u001b[0m\u001b[0;34m)\u001b[0m\u001b[0;34m\u001b[0m\u001b[0;34m\u001b[0m\u001b[0m\n\u001b[0m\u001b[1;32m    607\u001b[0m \u001b[0;34m\u001b[0m\u001b[0m\n\u001b[1;32m    608\u001b[0m     \u001b[0;32mdef\u001b[0m \u001b[0m_validate\u001b[0m\u001b[0;34m(\u001b[0m\u001b[0mself\u001b[0m\u001b[0;34m,\u001b[0m \u001b[0mobj\u001b[0m\u001b[0;34m,\u001b[0m \u001b[0mvalue\u001b[0m\u001b[0;34m)\u001b[0m\u001b[0;34m:\u001b[0m\u001b[0;34m\u001b[0m\u001b[0;34m\u001b[0m\u001b[0m\n",
      "\u001b[0;32m/usr/local/lib/python3.8/dist-packages/traitlets/traitlets.py\u001b[0m in \u001b[0;36mset\u001b[0;34m(self, obj, value)\u001b[0m\n\u001b[1;32m    578\u001b[0m \u001b[0;34m\u001b[0m\u001b[0m\n\u001b[1;32m    579\u001b[0m     \u001b[0;32mdef\u001b[0m \u001b[0mset\u001b[0m\u001b[0;34m(\u001b[0m\u001b[0mself\u001b[0m\u001b[0;34m,\u001b[0m \u001b[0mobj\u001b[0m\u001b[0;34m,\u001b[0m \u001b[0mvalue\u001b[0m\u001b[0;34m)\u001b[0m\u001b[0;34m:\u001b[0m\u001b[0;34m\u001b[0m\u001b[0;34m\u001b[0m\u001b[0m\n\u001b[0;32m--> 580\u001b[0;31m         \u001b[0mnew_value\u001b[0m \u001b[0;34m=\u001b[0m \u001b[0mself\u001b[0m\u001b[0;34m.\u001b[0m\u001b[0m_validate\u001b[0m\u001b[0;34m(\u001b[0m\u001b[0mobj\u001b[0m\u001b[0;34m,\u001b[0m \u001b[0mvalue\u001b[0m\u001b[0;34m)\u001b[0m\u001b[0;34m\u001b[0m\u001b[0;34m\u001b[0m\u001b[0m\n\u001b[0m\u001b[1;32m    581\u001b[0m         \u001b[0;32mtry\u001b[0m\u001b[0;34m:\u001b[0m\u001b[0;34m\u001b[0m\u001b[0;34m\u001b[0m\u001b[0m\n\u001b[1;32m    582\u001b[0m             \u001b[0mold_value\u001b[0m \u001b[0;34m=\u001b[0m \u001b[0mobj\u001b[0m\u001b[0;34m.\u001b[0m\u001b[0m_trait_values\u001b[0m\u001b[0;34m[\u001b[0m\u001b[0mself\u001b[0m\u001b[0;34m.\u001b[0m\u001b[0mname\u001b[0m\u001b[0;34m]\u001b[0m\u001b[0;34m\u001b[0m\u001b[0;34m\u001b[0m\u001b[0m\n",
      "\u001b[0;32m/usr/local/lib/python3.8/dist-packages/traitlets/traitlets.py\u001b[0m in \u001b[0;36m_validate\u001b[0;34m(self, obj, value)\u001b[0m\n\u001b[1;32m    610\u001b[0m             \u001b[0;32mreturn\u001b[0m \u001b[0mvalue\u001b[0m\u001b[0;34m\u001b[0m\u001b[0;34m\u001b[0m\u001b[0m\n\u001b[1;32m    611\u001b[0m         \u001b[0;32mif\u001b[0m \u001b[0mhasattr\u001b[0m\u001b[0;34m(\u001b[0m\u001b[0mself\u001b[0m\u001b[0;34m,\u001b[0m \u001b[0;34m'validate'\u001b[0m\u001b[0;34m)\u001b[0m\u001b[0;34m:\u001b[0m\u001b[0;34m\u001b[0m\u001b[0;34m\u001b[0m\u001b[0m\n\u001b[0;32m--> 612\u001b[0;31m             \u001b[0mvalue\u001b[0m \u001b[0;34m=\u001b[0m \u001b[0mself\u001b[0m\u001b[0;34m.\u001b[0m\u001b[0mvalidate\u001b[0m\u001b[0;34m(\u001b[0m\u001b[0mobj\u001b[0m\u001b[0;34m,\u001b[0m \u001b[0mvalue\u001b[0m\u001b[0;34m)\u001b[0m\u001b[0;34m\u001b[0m\u001b[0;34m\u001b[0m\u001b[0m\n\u001b[0m\u001b[1;32m    613\u001b[0m         \u001b[0;32mif\u001b[0m \u001b[0mobj\u001b[0m\u001b[0;34m.\u001b[0m\u001b[0m_cross_validation_lock\u001b[0m \u001b[0;32mis\u001b[0m \u001b[0;32mFalse\u001b[0m\u001b[0;34m:\u001b[0m\u001b[0;34m\u001b[0m\u001b[0;34m\u001b[0m\u001b[0m\n\u001b[1;32m    614\u001b[0m             \u001b[0mvalue\u001b[0m \u001b[0;34m=\u001b[0m \u001b[0mself\u001b[0m\u001b[0;34m.\u001b[0m\u001b[0m_cross_validate\u001b[0m\u001b[0;34m(\u001b[0m\u001b[0mobj\u001b[0m\u001b[0;34m,\u001b[0m \u001b[0mvalue\u001b[0m\u001b[0;34m)\u001b[0m\u001b[0;34m\u001b[0m\u001b[0;34m\u001b[0m\u001b[0m\n",
      "\u001b[0;32m/usr/local/lib/python3.8/dist-packages/traitlets/traitlets.py\u001b[0m in \u001b[0;36mvalidate\u001b[0;34m(self, obj, value)\u001b[0m\n\u001b[1;32m   2504\u001b[0m             \u001b[0;32mreturn\u001b[0m \u001b[0mvalue\u001b[0m\u001b[0;34m\u001b[0m\u001b[0;34m\u001b[0m\u001b[0m\n\u001b[1;32m   2505\u001b[0m \u001b[0;34m\u001b[0m\u001b[0m\n\u001b[0;32m-> 2506\u001b[0;31m         \u001b[0mvalue\u001b[0m \u001b[0;34m=\u001b[0m \u001b[0mself\u001b[0m\u001b[0;34m.\u001b[0m\u001b[0mvalidate_elements\u001b[0m\u001b[0;34m(\u001b[0m\u001b[0mobj\u001b[0m\u001b[0;34m,\u001b[0m \u001b[0mvalue\u001b[0m\u001b[0;34m)\u001b[0m\u001b[0;34m\u001b[0m\u001b[0;34m\u001b[0m\u001b[0m\n\u001b[0m\u001b[1;32m   2507\u001b[0m \u001b[0;34m\u001b[0m\u001b[0m\n\u001b[1;32m   2508\u001b[0m         \u001b[0;32mreturn\u001b[0m \u001b[0mvalue\u001b[0m\u001b[0;34m\u001b[0m\u001b[0;34m\u001b[0m\u001b[0m\n",
      "\u001b[0;32m/usr/local/lib/python3.8/dist-packages/traitlets/traitlets.py\u001b[0m in \u001b[0;36mvalidate_elements\u001b[0;34m(self, obj, value)\u001b[0m\n\u001b[1;32m   2516\u001b[0m                 \u001b[0mv\u001b[0m \u001b[0;34m=\u001b[0m \u001b[0mself\u001b[0m\u001b[0;34m.\u001b[0m\u001b[0m_trait\u001b[0m\u001b[0;34m.\u001b[0m\u001b[0m_validate\u001b[0m\u001b[0;34m(\u001b[0m\u001b[0mobj\u001b[0m\u001b[0;34m,\u001b[0m \u001b[0mv\u001b[0m\u001b[0;34m)\u001b[0m\u001b[0;34m\u001b[0m\u001b[0;34m\u001b[0m\u001b[0m\n\u001b[1;32m   2517\u001b[0m             \u001b[0;32mexcept\u001b[0m \u001b[0mTraitError\u001b[0m \u001b[0;32mas\u001b[0m \u001b[0merror\u001b[0m\u001b[0;34m:\u001b[0m\u001b[0;34m\u001b[0m\u001b[0;34m\u001b[0m\u001b[0m\n\u001b[0;32m-> 2518\u001b[0;31m                 \u001b[0mself\u001b[0m\u001b[0;34m.\u001b[0m\u001b[0merror\u001b[0m\u001b[0;34m(\u001b[0m\u001b[0mobj\u001b[0m\u001b[0;34m,\u001b[0m \u001b[0mv\u001b[0m\u001b[0;34m,\u001b[0m \u001b[0merror\u001b[0m\u001b[0;34m)\u001b[0m\u001b[0;34m\u001b[0m\u001b[0;34m\u001b[0m\u001b[0m\n\u001b[0m\u001b[1;32m   2519\u001b[0m             \u001b[0;32melse\u001b[0m\u001b[0;34m:\u001b[0m\u001b[0;34m\u001b[0m\u001b[0;34m\u001b[0m\u001b[0m\n\u001b[1;32m   2520\u001b[0m                 \u001b[0mvalidated\u001b[0m\u001b[0;34m.\u001b[0m\u001b[0mappend\u001b[0m\u001b[0;34m(\u001b[0m\u001b[0mv\u001b[0m\u001b[0;34m)\u001b[0m\u001b[0;34m\u001b[0m\u001b[0;34m\u001b[0m\u001b[0m\n",
      "\u001b[0;32m/usr/local/lib/python3.8/dist-packages/traitlets/traitlets.py\u001b[0m in \u001b[0;36merror\u001b[0;34m(self, obj, value, error, info)\u001b[0m\n\u001b[1;32m    676\u001b[0m                         \"expected %s, not %s.\" % (self.name, chain,\n\u001b[1;32m    677\u001b[0m                         error.args[1], describe(\"the\", error.args[0])),)\n\u001b[0;32m--> 678\u001b[0;31m             \u001b[0;32mraise\u001b[0m \u001b[0merror\u001b[0m\u001b[0;34m\u001b[0m\u001b[0;34m\u001b[0m\u001b[0m\n\u001b[0m\u001b[1;32m    679\u001b[0m         \u001b[0;32melse\u001b[0m\u001b[0;34m:\u001b[0m\u001b[0;34m\u001b[0m\u001b[0;34m\u001b[0m\u001b[0m\n\u001b[1;32m    680\u001b[0m             \u001b[0;31m# this trait caused an error\u001b[0m\u001b[0;34m\u001b[0m\u001b[0;34m\u001b[0m\u001b[0;34m\u001b[0m\u001b[0m\n",
      "\u001b[0;32m/usr/local/lib/python3.8/dist-packages/traitlets/traitlets.py\u001b[0m in \u001b[0;36mvalidate_elements\u001b[0;34m(self, obj, value)\u001b[0m\n\u001b[1;32m   2514\u001b[0m         \u001b[0;32mfor\u001b[0m \u001b[0mv\u001b[0m \u001b[0;32min\u001b[0m \u001b[0mvalue\u001b[0m\u001b[0;34m:\u001b[0m\u001b[0;34m\u001b[0m\u001b[0;34m\u001b[0m\u001b[0m\n\u001b[1;32m   2515\u001b[0m             \u001b[0;32mtry\u001b[0m\u001b[0;34m:\u001b[0m\u001b[0;34m\u001b[0m\u001b[0;34m\u001b[0m\u001b[0m\n\u001b[0;32m-> 2516\u001b[0;31m                 \u001b[0mv\u001b[0m \u001b[0;34m=\u001b[0m \u001b[0mself\u001b[0m\u001b[0;34m.\u001b[0m\u001b[0m_trait\u001b[0m\u001b[0;34m.\u001b[0m\u001b[0m_validate\u001b[0m\u001b[0;34m(\u001b[0m\u001b[0mobj\u001b[0m\u001b[0;34m,\u001b[0m \u001b[0mv\u001b[0m\u001b[0;34m)\u001b[0m\u001b[0;34m\u001b[0m\u001b[0;34m\u001b[0m\u001b[0m\n\u001b[0m\u001b[1;32m   2517\u001b[0m             \u001b[0;32mexcept\u001b[0m \u001b[0mTraitError\u001b[0m \u001b[0;32mas\u001b[0m \u001b[0merror\u001b[0m\u001b[0;34m:\u001b[0m\u001b[0;34m\u001b[0m\u001b[0;34m\u001b[0m\u001b[0m\n\u001b[1;32m   2518\u001b[0m                 \u001b[0mself\u001b[0m\u001b[0;34m.\u001b[0m\u001b[0merror\u001b[0m\u001b[0;34m(\u001b[0m\u001b[0mobj\u001b[0m\u001b[0;34m,\u001b[0m \u001b[0mv\u001b[0m\u001b[0;34m,\u001b[0m \u001b[0merror\u001b[0m\u001b[0;34m)\u001b[0m\u001b[0;34m\u001b[0m\u001b[0;34m\u001b[0m\u001b[0m\n",
      "\u001b[0;32m/usr/local/lib/python3.8/dist-packages/traitlets/traitlets.py\u001b[0m in \u001b[0;36m_validate\u001b[0;34m(self, obj, value)\u001b[0m\n\u001b[1;32m    610\u001b[0m             \u001b[0;32mreturn\u001b[0m \u001b[0mvalue\u001b[0m\u001b[0;34m\u001b[0m\u001b[0;34m\u001b[0m\u001b[0m\n\u001b[1;32m    611\u001b[0m         \u001b[0;32mif\u001b[0m \u001b[0mhasattr\u001b[0m\u001b[0;34m(\u001b[0m\u001b[0mself\u001b[0m\u001b[0;34m,\u001b[0m \u001b[0;34m'validate'\u001b[0m\u001b[0;34m)\u001b[0m\u001b[0;34m:\u001b[0m\u001b[0;34m\u001b[0m\u001b[0;34m\u001b[0m\u001b[0m\n\u001b[0;32m--> 612\u001b[0;31m             \u001b[0mvalue\u001b[0m \u001b[0;34m=\u001b[0m \u001b[0mself\u001b[0m\u001b[0;34m.\u001b[0m\u001b[0mvalidate\u001b[0m\u001b[0;34m(\u001b[0m\u001b[0mobj\u001b[0m\u001b[0;34m,\u001b[0m \u001b[0mvalue\u001b[0m\u001b[0;34m)\u001b[0m\u001b[0;34m\u001b[0m\u001b[0;34m\u001b[0m\u001b[0m\n\u001b[0m\u001b[1;32m    613\u001b[0m         \u001b[0;32mif\u001b[0m \u001b[0mobj\u001b[0m\u001b[0;34m.\u001b[0m\u001b[0m_cross_validation_lock\u001b[0m \u001b[0;32mis\u001b[0m \u001b[0;32mFalse\u001b[0m\u001b[0;34m:\u001b[0m\u001b[0;34m\u001b[0m\u001b[0;34m\u001b[0m\u001b[0m\n\u001b[1;32m    614\u001b[0m             \u001b[0mvalue\u001b[0m \u001b[0;34m=\u001b[0m \u001b[0mself\u001b[0m\u001b[0;34m.\u001b[0m\u001b[0m_cross_validate\u001b[0m\u001b[0;34m(\u001b[0m\u001b[0mobj\u001b[0m\u001b[0;34m,\u001b[0m \u001b[0mvalue\u001b[0m\u001b[0;34m)\u001b[0m\u001b[0;34m\u001b[0m\u001b[0;34m\u001b[0m\u001b[0m\n",
      "\u001b[0;32m/usr/local/lib/python3.8/dist-packages/traitlets/traitlets.py\u001b[0m in \u001b[0;36mvalidate\u001b[0;34m(self, obj, value)\u001b[0m\n\u001b[1;32m   1849\u001b[0m             \u001b[0;32mreturn\u001b[0m \u001b[0mvalue\u001b[0m\u001b[0;34m\u001b[0m\u001b[0;34m\u001b[0m\u001b[0m\n\u001b[1;32m   1850\u001b[0m         \u001b[0;32melse\u001b[0m\u001b[0;34m:\u001b[0m\u001b[0;34m\u001b[0m\u001b[0;34m\u001b[0m\u001b[0m\n\u001b[0;32m-> 1851\u001b[0;31m             \u001b[0mself\u001b[0m\u001b[0;34m.\u001b[0m\u001b[0merror\u001b[0m\u001b[0;34m(\u001b[0m\u001b[0mobj\u001b[0m\u001b[0;34m,\u001b[0m \u001b[0mvalue\u001b[0m\u001b[0;34m)\u001b[0m\u001b[0;34m\u001b[0m\u001b[0;34m\u001b[0m\u001b[0m\n\u001b[0m\u001b[1;32m   1852\u001b[0m \u001b[0;34m\u001b[0m\u001b[0m\n\u001b[1;32m   1853\u001b[0m     \u001b[0;32mdef\u001b[0m \u001b[0minfo\u001b[0m\u001b[0;34m(\u001b[0m\u001b[0mself\u001b[0m\u001b[0;34m)\u001b[0m\u001b[0;34m:\u001b[0m\u001b[0;34m\u001b[0m\u001b[0;34m\u001b[0m\u001b[0m\n",
      "\u001b[0;32m/usr/local/lib/python3.8/dist-packages/traitlets/traitlets.py\u001b[0m in \u001b[0;36merror\u001b[0;34m(self, obj, value, error, info)\u001b[0m\n\u001b[1;32m    681\u001b[0m             \u001b[0;32mif\u001b[0m \u001b[0mself\u001b[0m\u001b[0;34m.\u001b[0m\u001b[0mname\u001b[0m \u001b[0;32mis\u001b[0m \u001b[0;32mNone\u001b[0m\u001b[0;34m:\u001b[0m\u001b[0;34m\u001b[0m\u001b[0;34m\u001b[0m\u001b[0m\n\u001b[1;32m    682\u001b[0m                 \u001b[0;31m# this is not the root trait\u001b[0m\u001b[0;34m\u001b[0m\u001b[0;34m\u001b[0m\u001b[0;34m\u001b[0m\u001b[0m\n\u001b[0;32m--> 683\u001b[0;31m                 \u001b[0;32mraise\u001b[0m \u001b[0mTraitError\u001b[0m\u001b[0;34m(\u001b[0m\u001b[0mvalue\u001b[0m\u001b[0;34m,\u001b[0m \u001b[0minfo\u001b[0m \u001b[0;32mor\u001b[0m \u001b[0mself\u001b[0m\u001b[0;34m.\u001b[0m\u001b[0minfo\u001b[0m\u001b[0;34m(\u001b[0m\u001b[0;34m)\u001b[0m\u001b[0;34m,\u001b[0m \u001b[0mself\u001b[0m\u001b[0;34m)\u001b[0m\u001b[0;34m\u001b[0m\u001b[0;34m\u001b[0m\u001b[0m\n\u001b[0m\u001b[1;32m    684\u001b[0m             \u001b[0;32melse\u001b[0m\u001b[0;34m:\u001b[0m\u001b[0;34m\u001b[0m\u001b[0;34m\u001b[0m\u001b[0m\n\u001b[1;32m    685\u001b[0m                 \u001b[0;31m# this is the root trait\u001b[0m\u001b[0;34m\u001b[0m\u001b[0;34m\u001b[0m\u001b[0;34m\u001b[0m\u001b[0m\n",
      "\u001b[0;31mTraitError\u001b[0m: The 'children' trait of a HBox instance contains an Instance of a TypedTuple which expected a Widget, not the Figure <Figure size 640x480 with 1 Axes>."
     ]
    }
   ],
   "source": [
    "global x_coordinate, y_coordinate, send_coordinates, vbox, hbox_1, hbox_2, html_code_vertical_shorter, info\n",
    "\n",
    "# Important html lines used later to create the layout of the tables\n",
    "html_code_vertical = '<div style=\"border-left: 1px solid #000; height: 100px;\"></div>'\n",
    "html_code_vertical_shorter = '<div style=\"border-left: 1px solid #000; height: 20px;\"></div>'\n",
    "html_code_horizontal = '<hr style=\"border-top: 1px solid #000;\">'\n",
    "\n",
    "# Float sliders declarations\n",
    "x_coordinate = widgets.FloatSlider( \n",
    "value = \"{:.1f}\".format(info.x),\n",
    "min = -9.0, \n",
    "max = 9.0, \n",
    "step = 0.1,\n",
    "description = 'X:', \n",
    "disabled = False, \n",
    "continuous_update = False, \n",
    "orientation = 'horizontal', \n",
    "readout = True\n",
    ")\n",
    "y_coordinate = widgets.FloatSlider( \n",
    "value = \"{:.1f}\".format(info.y),\n",
    "min = -9.0, \n",
    "max = 9.0, \n",
    "step = 0.1,\n",
    "description = 'Y:', \n",
    "disabled = False, \n",
    "continuous_update = False, \n",
    "orientation = 'horizontal', \n",
    "readout = True\n",
    ")\n",
    "\n",
    "# Markdown with HTML syntax for font and size\n",
    "introduction = f'<div style=\"font-family: Arial; font-size: 18px;\">Choose X and Y coordinates to be reached from the robot</div>'\n",
    "# This part is where the user can choose the coordinates\n",
    "display(Markdown(introduction))\n",
    "\"\"\"\n",
    "The user can choose here the coorddinates for the robot to reach, thanks to two float sliders.\n",
    "To send these coordinates to the robot, the user can click on the button \"Send Coordinates\".\n",
    "When the robot is moving towards the coordinates, the button will change to \"Cancel\", and the user\n",
    "has the possibility to cancel the operation by clicking on the button; in that case the button will\n",
    "change back to \"Send Coordinates\".\n",
    "\"\"\"\n",
    "vbox_floatsliders = widgets.VBox()\n",
    "vbox_floatsliders.layout = widgets.Layout(width='100%', height='100%', overflow_y='hidden', justify_content='center', align_items='center')\n",
    "send_coordinates = widgets.Button(description=\"Send Coordinates\", layout=widgets.Layout(width='50%', height='60px', color='black', font_weight='bold'))\n",
    "send_coordinates.style.button_color = 'green'\n",
    "send_coordinates.style.font_weight = 'bold'\n",
    "hbox_button = widgets.HBox()\n",
    "hbox_button.layout = widgets.Layout(width='75%', height='100%', overflow_y='hidden', justify_content='center', align_items='center')\n",
    "hbox_button.children = [send_coordinates]\n",
    "vbox_floatsliders.children = (x_coordinate, y_coordinate, hbox_button)\n",
    "display(vbox_floatsliders)\n",
    "send_coordinates.on_click(on_coordinates_sent)\n",
    "\n",
    "current_coordinates_text = f'<div style=\"font-family: Arial; font-size: 18px;\">Current coordinates of the robot</div>'\n",
    "# This part shows the current coordinates of the robot\n",
    "display(Markdown(current_coordinates_text))\n",
    "\"\"\"\n",
    "Here it is possible to look at the current position of the robot, with the x and y coordinates shown in the table below.\n",
    "The coordinates are updated in real time, rounded to the first decimal.\n",
    "\"\"\"\n",
    "hbox_0 = widgets.HBox((widgets.Label(\"Coordinates:\"),))\n",
    "hbox_0.layout = widgets.Layout(width='33%', height='60px', overflow_y='hidden',justify_content='center', align_items='center')\n",
    "hbox_1 = widgets.HBox((widgets.Label(\"{:.1f}\".format(info.x)),))\n",
    "hbox_1.layout = widgets.Layout(width='33%', height='60px', overflow_y='hidden', justify_content='center', align_items='center')\n",
    "hbox_2 = widgets.HBox((widgets.Label(\"{:.1f}\".format(info.y)),))\n",
    "hbox_2.layout = widgets.Layout(width='33%', height='60px', overflow_y='hidden', justify_content='center', align_items='center')\n",
    "\n",
    "hbox_coordinates = widgets.HBox()\n",
    "hbox_coordinates.layout = widgets.Layout(width='100%', height='60px', overflow_y='hidden', )\n",
    "vbox_coordinates = widgets.VBox()\n",
    "vbox_coordinates.layout = widgets.Layout(width='100%', height='100px', overflow_y='hidden')\n",
    "hbox_coordinates.children = [widgets.HTML(html_code_vertical), hbox_0, widgets.HTML(html_code_vertical), hbox_1, widgets.HTML(html_code_vertical), hbox_2, widgets.HTML(html_code_vertical)]\n",
    "vbox_coordinates.children = [widgets.HTML(html_code_horizontal), hbox_coordinates, widgets.HTML(html_code_horizontal)]\n",
    "\n",
    "display(vbox_coordinates)\n",
    "\n",
    "# Plot the position of the robot\n",
    "\n",
    "fig, ax = plt.subplots()\n",
    "ax.set_title('Robot Position', fontsize=16)\n",
    "xdata, ydata = [], []\n",
    "ln, = plt.plot([], [], 'r-')\n",
    "def init():\n",
    "    ax.set_ylim(9, -9) \n",
    "    ax.set_xlim(9, -9) \n",
    "    ax.set_xlabel('X', fontsize=12, labelpad=10)\n",
    "    ax.set_ylabel('Y', fontsize=12, labelpad=10)\n",
    "    return ln,\n",
    "def update(frame): \n",
    "    infox = info.x\n",
    "    infoy = info.y\n",
    "    xdata.append(infox) \n",
    "    ydata.append(infoy) \n",
    "    ln.set_data(xdata, ydata)\n",
    "    return ln,\n",
    "ani = FuncAnimation(fig, update, frames = None, init_func=init, blit=True)\n",
    "fig.canvas.header_visible = False\n",
    "fig.canvas.footer_visible = False\n",
    "fig.canvas.toolbar_visible = False\n",
    "fig.canvas.resizable = False\n",
    "hbox_plot = widgets.HBox()\n",
    "hbox_plot.layout = widgets.Layout(width='100%', height='100%', overflow_y='hidden', justify_content='center', align_items='center')\n",
    "hbox_plot.children = tuple([fig.canvas,])\n",
    "# display(hbox_plot)\n",
    "# plt.show()\n",
    "\n",
    "sets_of_coordinates_text = f'<div style=\"font-family: Arial; font-size: 18px;\">Here the sets of sent and canceled goals are shown</div>'\n",
    "# Markdown for the sets of goals reached/cancelled\n",
    "display(Markdown(sets_of_coordinates_text))\n",
    "\"\"\"\n",
    "This is done for the coordinates reached by the robot\n",
    "A table is created with the coordinates reached by the robot, created with vboxes and hboxes\n",
    "\"\"\"\n",
    "vbox = widgets.VBox()\n",
    "hbox = widgets.HBox()\n",
    "hbox_try0 = widgets.HBox((widgets.Label(\"Operation\"),))\n",
    "hbox_try1 = widgets.HBox((widgets.Label(\"X\"),))\n",
    "hbox_try2 = widgets.HBox((widgets.Label(\"Y\"),))\n",
    "hbox_try0.layout = widgets.Layout(width='33%', height='20px', overflow_y='hidden', justify_content='center', align_items='center')\n",
    "hbox_try1.layout = widgets.Layout(width='33%', height='20px', overflow_y='hidden', justify_content='center', align_items='center')\n",
    "hbox_try2.layout = widgets.Layout(width='33%', height='20px', overflow_y='hidden', justify_content='center', align_items='center')\n",
    "\n",
    "hbox.children = ([widgets.HTML(html_code_vertical_shorter), hbox_try0, widgets.HTML(html_code_vertical_shorter), hbox_try1, widgets.HTML(html_code_vertical_shorter), hbox_try2, widgets.HTML(html_code_vertical_shorter)])\n",
    "vbox.children = tuple([widgets.HTML(html_code_horizontal), hbox, widgets.HTML(html_code_horizontal),])\n",
    "display(vbox)\n",
    "\n",
    "\n"
   ]
  },
  {
   "cell_type": "code",
   "execution_count": 15,
   "id": "2e07dbe6",
   "metadata": {},
   "outputs": [],
   "source": [
    "# # Plot the position of the robot\n",
    "# global info\n",
    "# fig, ax = plt.subplots()\n",
    "# ax.set_title('Robot Position', fontsize=16)\n",
    "# xdata, ydata = [], []\n",
    "# ln, = plt.plot([], [], 'r-')\n",
    "# def init():\n",
    "#     ax.set_ylim(9, -9) \n",
    "#     ax.set_xlim(9, -9) \n",
    "#     ax.set_xlabel('X', fontsize=12, labelpad=10)\n",
    "#     ax.set_ylabel('Y', fontsize=12, labelpad=10)\n",
    "#     return ln,\n",
    "# def update(frame): \n",
    "#     infox = info.x\n",
    "#     infoy = info.y\n",
    "#     xdata.append(infox) \n",
    "#     ydata.append(infoy) \n",
    "#     ln.set_data(xdata, ydata)\n",
    "#     return ln,\n",
    "# ani = FuncAnimation(fig, update, frames = None, init_func=init, blit=True)\n",
    "# plt.show()\n"
   ]
  },
  {
   "cell_type": "code",
   "execution_count": null,
   "id": "a55a82b3",
   "metadata": {},
   "outputs": [],
   "source": [
    "\n",
    "\n"
   ]
  },
  {
   "cell_type": "code",
   "execution_count": null,
   "id": "74ceabac",
   "metadata": {},
   "outputs": [],
   "source": []
  }
 ],
 "metadata": {
  "kernelspec": {
   "display_name": "Python 3 (ipykernel)",
   "language": "python",
   "name": "python3"
  },
  "language_info": {
   "codemirror_mode": {
    "name": "ipython",
    "version": 3
   },
   "file_extension": ".py",
   "mimetype": "text/x-python",
   "name": "python",
   "nbconvert_exporter": "python",
   "pygments_lexer": "ipython3",
   "version": "3.8.5"
  }
 },
 "nbformat": 4,
 "nbformat_minor": 5
}
