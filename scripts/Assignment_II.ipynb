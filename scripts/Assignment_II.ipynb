{
 "cells": [
  {
   "cell_type": "code",
   "execution_count": 1,
   "id": "2daa1e52",
   "metadata": {},
   "outputs": [],
   "source": [
    "%matplotlib widget\n",
    "import numpy as np\n",
    "import matplotlib.pyplot as plt \n",
    "from matplotlib.animation import FuncAnimation\n",
    "import matplotlib.lines as mlines\n",
    "import jupyros as jr\n",
    "import rospy\n",
    "from nav_msgs.msg import Odometry \n",
    "import ipywidgets as widgets\n",
    "from ipywidgets import interact, interactive\n",
    "import IPython\n",
    "from IPython.display import display, Markdown\n",
    "import assignment_2_2023.msg\n",
    "from assignment_2_2023.msg import PlanningAction\n",
    "from assignment_2_2023.msg import Info\n",
    "import actionlib\n",
    "import actionlib.msg\n",
    "\n"
   ]
  },
  {
   "cell_type": "code",
   "execution_count": 2,
   "id": "7d1e86fc",
   "metadata": {},
   "outputs": [],
   "source": [
    "\n",
    "def on_result(action_result):\n",
    "    global send_coordinates\n",
    "    # We can preempt the robot only if the state machine is not in the \"SUCCEEDED\" or in the \"PREEMPTED\" status\n",
    "    if(not(action_result.status.status == action_result.status.SUCCEEDED or action_result.status.status == action_result.status.PREEMPTED)):\n",
    "        send_coordinates.description = \"Cancel\"\n",
    "        send_coordinates.style.button_color = 'red'\n",
    "        \n",
    "    else:\n",
    "        send_coordinates.description = \"Send Coordinates\"\n",
    "        send_coordinates.style.button_color = 'green'\n",
    "\n"
   ]
  },
  {
   "cell_type": "code",
   "execution_count": 3,
   "id": "7b4beaf1",
   "metadata": {},
   "outputs": [],
   "source": [
    "def on_odom(msg):\n",
    "    global info, pub_info, hbox_1, hbox_2, info_old\n",
    "    pos = msg.pose.pose.position\n",
    "\t\n",
    "\t# Get the current velocity\n",
    "    vel_linear_x = msg.twist.twist.linear.x\n",
    "    vel_angular_z = msg.twist.twist.angular.z\n",
    "    \n",
    "    # Prepare and publish the info message\n",
    "    info = Info()\n",
    "    info.x = pos.x\n",
    "    info.y = pos.y\n",
    "    info.vel_linear_x = vel_linear_x\n",
    "    info.vel_angular_z = vel_angular_z\n",
    "    pub_info.publish(info)\n",
    "    if(abs(info_old.x-info.x) >= 0.1 or abs(info_old.y-info.y) >= 0.1):\n",
    "        hbox_1.children = ([widgets.Label(\"{:.1f}\".format(info.x)),])\n",
    "        hbox_2.children = ([widgets.Label(\"{:.1f}\".format(info.y)),])\n",
    "        info_old = info"
   ]
  },
  {
   "cell_type": "code",
   "execution_count": 4,
   "id": "f4c399a5",
   "metadata": {},
   "outputs": [
    {
     "data": {
      "text/plain": [
       "True"
      ]
     },
     "execution_count": 4,
     "metadata": {},
     "output_type": "execute_result"
    }
   ],
   "source": [
    "global client, pub_info, info_old, send_coordinates, target_bar_y, goal_scatter\n",
    "info_old = Info()\n",
    "info_old.x = 0.0\n",
    "info_old.y = 0.0\n",
    "hbox_1 = widgets.HBox()\n",
    "hbox_2 = widgets.HBox()\n",
    "send_coordinates = widgets.Button()\n",
    "target_bar_y = [0, 0]\n",
    "goal_scatter = [100, 100]\n",
    "rospy.init_node('client_node')\n",
    "\n",
    "# sub_odom is a subscriber that receives Odometry data\n",
    "sub_odom = rospy.Subscriber(\"/odom\", Odometry, on_odom)\n",
    "    \n",
    "# Subscriber for result\n",
    "sub_result = rospy.Subscriber(\"/reaching_goal/result\",assignment_2_2023.msg.PlanningActionResult, on_result)\n",
    "\n",
    "# info_pub is a publisher that sends the info (x,y,vel_linear_x, vel_angular_z)\n",
    "pub_info = rospy.Publisher('/info_pos_vel', Info, queue_size = 1)\n",
    "\n",
    "client = actionlib.SimpleActionClient('/reaching_goal', PlanningAction)\n",
    "client.wait_for_server()\n",
    "\n"
   ]
  },
  {
   "cell_type": "code",
   "execution_count": 5,
   "id": "5b1ee24d",
   "metadata": {},
   "outputs": [],
   "source": [
    "global axs\n",
    "def update2():\n",
    "    axs[1].bar(('Sent', 'Cancelled'), target_bar_y, color=['green', 'red'])\n",
    "    axs[1].set_ylim(0, max(target_bar_y) + 5)"
   ]
  },
  {
   "cell_type": "code",
   "execution_count": 6,
   "id": "2cb80611",
   "metadata": {},
   "outputs": [],
   "source": [
    "\n",
    "def on_coordinates_sent(b):\n",
    "    global x_coordinate, y_coordinate, client, info, vbox, html_code_vertical_shorter, target_bar_y, goal_scatter\n",
    "    if(b.description == \"Cancel\"):\n",
    "        b.description = \"Send Coordinates\"\n",
    "        b.style.button_color = 'green'\n",
    "        client.cancel_goal()\n",
    "        \n",
    "        hbox = widgets.HBox()\n",
    "        hbox_try0 = widgets.HBox((widgets.Label(value = \"Deleted\"),))\n",
    "        hbox_try1 = widgets.HBox((widgets.Label(\"{:.1f}\".format(info.x)),))\n",
    "        hbox_try2 = widgets.HBox((widgets.Label(\"{:.1f}\".format(info.y)),))\n",
    "        hbox_try0.layout = widgets.Layout(width='33%', height='20px', overflow_y='hidden', justify_content='center', align_items='center')\n",
    "        hbox_try1.layout = widgets.Layout(width='33%', height='20px', overflow_y='hidden', justify_content='center', align_items='center')\n",
    "        hbox_try2.layout = widgets.Layout(width='33%', height='20px', overflow_y='hidden', justify_content='center', align_items='center')\n",
    "        target_bar_y[1] = target_bar_y[1] + 1\n",
    "        \n",
    "        update2()\n",
    "        goal_scatter = [info.x, info.y]\n",
    "\n",
    "        hbox.children = ([widgets.HTML(html_code_vertical_shorter), hbox_try0, widgets.HTML(html_code_vertical_shorter), hbox_try1, widgets.HTML(html_code_vertical_shorter), hbox_try2, widgets.HTML(html_code_vertical_shorter)])\n",
    "        vbox.children = vbox.children + tuple([hbox,])\n",
    "        vbox\n",
    "        \n",
    "    elif(b.description == \"Send Coordinates\"):\n",
    "        b.description = \"Cancel\"\n",
    "        b.style.button_color = 'red'\n",
    "        goal = assignment_2_2023.msg.PlanningGoal()\n",
    "        goal.target_pose.pose.position.x = x_coordinate.value\n",
    "        goal.target_pose.pose.position.y = y_coordinate.value\n",
    "        \n",
    "        hbox = widgets.HBox()\n",
    "        hbox_try0 = widgets.HBox((widgets.Label(\"Start\"),))\n",
    "        hbox_try1 = widgets.HBox((widgets.Label(str(x_coordinate.value)),))\n",
    "        hbox_try2 = widgets.HBox((widgets.Label(str(y_coordinate.value)),))\n",
    "        hbox_try0.layout = widgets.Layout(width='33%', height='20px', overflow_y='hidden', justify_content='center', align_items='center')\n",
    "        hbox_try1.layout = widgets.Layout(width='33%', height='20px', overflow_y='hidden', justify_content='center', align_items='center')\n",
    "        hbox_try2.layout = widgets.Layout(width='33%', height='20px', overflow_y='hidden', justify_content='center', align_items='center')\n",
    "        target_bar_y[0] = target_bar_y[0] + 1\n",
    "        \n",
    "        update2()\n",
    "        goal_scatter = [x_coordinate.value, y_coordinate.value]\n",
    "\n",
    "        hbox.children = ([widgets.HTML(html_code_vertical_shorter), hbox_try0, widgets.HTML(html_code_vertical_shorter), hbox_try1, widgets.HTML(html_code_vertical_shorter), hbox_try2, widgets.HTML(html_code_vertical_shorter)])\n",
    "        vbox.children = vbox.children + tuple([hbox,])\n",
    "        vbox\n",
    "        \n",
    "        client.send_goal(goal)\n",
    "        "
   ]
  },
  {
   "cell_type": "code",
   "execution_count": 10,
   "id": "2ba7e6dd",
   "metadata": {},
   "outputs": [
    {
     "data": {
      "text/markdown": [
       "<div style=\"font-family: Arial; font-size: 18px;\">Choose X and Y coordinates to be reached from the robot</div>"
      ],
      "text/plain": [
       "<IPython.core.display.Markdown object>"
      ]
     },
     "metadata": {},
     "output_type": "display_data"
    },
    {
     "data": {
      "application/vnd.jupyter.widget-view+json": {
       "model_id": "f4ddd54f1c494eb5ab3c0193879050af",
       "version_major": 2,
       "version_minor": 0
      },
      "text/plain": [
       "VBox(children=(FloatSlider(value=-6.6, continuous_update=False, description='X:', max=9.0, min=-9.0), FloatSli…"
      ]
     },
     "metadata": {},
     "output_type": "display_data"
    },
    {
     "data": {
      "application/vnd.jupyter.widget-view+json": {
       "model_id": "a2b858de695b4942b6cf80190f16642a",
       "version_major": 2,
       "version_minor": 0
      },
      "text/plain": [
       "VBox(children=(HTML(value='<hr style=\"border-top: 1px solid #000;\">'), HBox(children=(HTML(value='<div style=\"…"
      ]
     },
     "metadata": {},
     "output_type": "display_data"
    },
    {
     "data": {
      "application/vnd.jupyter.widget-view+json": {
       "model_id": "67069fa761984733b59d8c6405457a00",
       "version_major": 2,
       "version_minor": 0
      },
      "text/plain": [
       "Canvas(toolbar=Toolbar(toolitems=[('Home', 'Reset original view', 'home', 'home'), ('Back', 'Back to previous …"
      ]
     },
     "metadata": {},
     "output_type": "display_data"
    },
    {
     "data": {
      "text/markdown": [
       "<div style=\"font-family: Arial; font-size: 18px;\">Here the sets of sent and canceled goals are shown</div>"
      ],
      "text/plain": [
       "<IPython.core.display.Markdown object>"
      ]
     },
     "metadata": {},
     "output_type": "display_data"
    },
    {
     "data": {
      "application/vnd.jupyter.widget-view+json": {
       "model_id": "f84b43a55cc5420496bf02d03379ec5f",
       "version_major": 2,
       "version_minor": 0
      },
      "text/plain": [
       "VBox(children=(HTML(value='<hr style=\"border-top: 1px solid #000;\">'), HBox(children=(HTML(value='<div style=\"…"
      ]
     },
     "metadata": {},
     "output_type": "display_data"
    }
   ],
   "source": [
    "global x_coordinate, y_coordinate, send_coordinates, vbox, hbox_1, hbox_2, html_code_vertical_shorter, info, target_bar_y, axs, goal_scatter\n",
    "\n",
    "# Important html lines used later to create the layout of the tables\n",
    "html_code_vertical = '<div style=\"border-left: 1px solid #000; height: 100px;\"></div>'\n",
    "html_code_vertical_shorter = '<div style=\"border-left: 1px solid #000; height: 20px;\"></div>'\n",
    "html_code_horizontal = '<hr style=\"border-top: 1px solid #000;\">'\n",
    "\n",
    "# Float sliders declarations\n",
    "x_coordinate = widgets.FloatSlider( \n",
    "value = \"{:.1f}\".format(info.x),\n",
    "min = -9.0, \n",
    "max = 9.0, \n",
    "step = 0.1,\n",
    "description = 'X:', \n",
    "disabled = False, \n",
    "continuous_update = False, \n",
    "orientation = 'horizontal', \n",
    "readout = True\n",
    ")\n",
    "y_coordinate = widgets.FloatSlider( \n",
    "value = \"{:.1f}\".format(info.y),\n",
    "min = -9.0, \n",
    "max = 9.0, \n",
    "step = 0.1,\n",
    "description = 'Y:', \n",
    "disabled = False, \n",
    "continuous_update = False, \n",
    "orientation = 'horizontal', \n",
    "readout = True\n",
    ")\n",
    "\n",
    "# Markdown with HTML syntax for font and size\n",
    "introduction = f'<div style=\"font-family: Arial; font-size: 18px;\">Choose X and Y coordinates to be reached from the robot</div>'\n",
    "# This part is where the user can choose the coordinates\n",
    "display(Markdown(introduction))\n",
    "\"\"\"\n",
    "The user can choose here the coordinates for the robot to reach, thanks to two float sliders.\n",
    "To send these coordinates to the robot, the user can click on the button \"Send Coordinates\".\n",
    "When the robot is moving towards the coordinates, the button will change to \"Cancel\", and the user\n",
    "has the possibility to cancel the operation by clicking on the button; in that case the button will\n",
    "change back to \"Send Coordinates\".\n",
    "\"\"\"\n",
    "vbox_floatsliders = widgets.VBox()\n",
    "vbox_floatsliders.layout = widgets.Layout(width='100%', height='100%', overflow_y='hidden', justify_content='center', align_items='center')\n",
    "send_coordinates = widgets.Button(description=\"Send Coordinates\", layout=widgets.Layout(width='50%', height='60px', color='black', font_weight='bold'))\n",
    "send_coordinates.style.button_color = 'green'\n",
    "send_coordinates.style.font_weight = 'bold'\n",
    "hbox_button = widgets.HBox()\n",
    "hbox_button.layout = widgets.Layout(width='75%', height='100%', overflow_y='hidden', justify_content='center', align_items='center')\n",
    "hbox_button.children = [send_coordinates]\n",
    "vbox_floatsliders.children = (x_coordinate, y_coordinate, hbox_button)\n",
    "display(vbox_floatsliders)\n",
    "send_coordinates.on_click(on_coordinates_sent)\n",
    "\n",
    "# current_coordinates_text = f'<div style=\"font-family: Arial; font-size: 18px;\">Current coordinates of the robot</div>'\n",
    "# This part shows the current coordinates of the robot\n",
    "# display(Markdown(current_coordinates_text))\n",
    "\"\"\"\n",
    "Here it is possible to look at the current position of the robot, with the x and y coordinates shown in the table below.\n",
    "The coordinates are updated in real time, rounded to the first decimal.\n",
    "\"\"\"\n",
    "hbox_0 = widgets.HBox((widgets.Label(\"Coordinates:\"),))\n",
    "hbox_0.layout = widgets.Layout(width='33%', height='60px', overflow_y='hidden',justify_content='center', align_items='center')\n",
    "hbox_1 = widgets.HBox((widgets.Label(\"{:.1f}\".format(info.x)),))\n",
    "hbox_1.layout = widgets.Layout(width='33%', height='60px', overflow_y='hidden', justify_content='center', align_items='center')\n",
    "hbox_2 = widgets.HBox((widgets.Label(\"{:.1f}\".format(info.y)),))\n",
    "hbox_2.layout = widgets.Layout(width='33%', height='60px', overflow_y='hidden', justify_content='center', align_items='center')\n",
    "\n",
    "hbox_coordinates = widgets.HBox()\n",
    "hbox_coordinates.layout = widgets.Layout(width='100%', height='60px', overflow_y='hidden', )\n",
    "vbox_coordinates = widgets.VBox()\n",
    "vbox_coordinates.layout = widgets.Layout(width='100%', height='100px', overflow_y='hidden')\n",
    "hbox_coordinates.children = [widgets.HTML(html_code_vertical), hbox_0, widgets.HTML(html_code_vertical), hbox_1, widgets.HTML(html_code_vertical), hbox_2, widgets.HTML(html_code_vertical)]\n",
    "vbox_coordinates.children = [widgets.HTML(html_code_horizontal), hbox_coordinates, widgets.HTML(html_code_horizontal)]\n",
    "\n",
    "display(vbox_coordinates)\n",
    "\n",
    "# Plot the position of the robot\n",
    "\"\"\"\n",
    "Two plots are made. The first one shows the position of the robot in the x-y plane, with the current goal shown as a blue dot.\n",
    "The second plot shows the amount of goals sent and cancelled by the user.\n",
    "\"\"\"\n",
    "font_graphs = {'family':'serif','color':'black','size':18}\n",
    "font_labels = {'family':'arial','color':'black','size':12}\n",
    "fig, axs = plt.subplots(1,2, figsize=(12, 6))\n",
    "axs[0].set_title('Robot Position', loc='center', fontdict = font_graphs)\n",
    "axs[0].plot([9,-9,-9,9,9],[9,9,-9,-9,9],'blueviolet', linewidth = 5)\n",
    "axs[0].plot([4, -5, -5], [-0.5, -0.5, -5], 'blueviolet', linewidth = 6)\n",
    "axs[0].plot([-7,5], [4.75,4.75], 'blueviolet', linewidth = 6)\n",
    "axs[0].grid(True)\n",
    "xdata, ydata = [], []\n",
    "ln, = axs[0].plot([], [], 'r-', linewidth = 2)\n",
    "scat = axs[0].scatter([], [], color='blue', label='Current goal')\n",
    "def init():\n",
    "    axs[0].set_ylim(10, -10) \n",
    "    axs[0].set_xlim(10, -10) \n",
    "    axs[0].set_xlabel('X', fontdict = font_labels, labelpad=10)\n",
    "    axs[0].set_ylabel('Y', fontdict = font_labels, labelpad=10, rotation=0)\n",
    "    return ln, scat\n",
    "def update(frame): \n",
    "    infox = info.x\n",
    "    infoy = info.y\n",
    "    xdata.append(infox) \n",
    "    ydata.append(infoy) \n",
    "    ln.set_data(xdata, ydata)\n",
    "    scat.set_offsets((goal_scatter[0], goal_scatter[1]))\n",
    "    return ln, scat\n",
    "ani = FuncAnimation(fig, update, frames = None, init_func=init, blit=True)\n",
    "axs[0].legend(loc='upper left')\n",
    "fig.canvas.header_visible = False\n",
    "fig.canvas.footer_visible = False\n",
    "fig.canvas.toolbar_visible = False\n",
    "fig.canvas.resizable = False\n",
    "\n",
    "axs[1].set_ylim(0, max(target_bar_y) + 5)\n",
    "axs[1].bar(('Sent', 'Cancelled'), target_bar_y, color = ['green', 'red'])  \n",
    "\n",
    "plt.xlabel('Operations', fontdict = font_labels)\n",
    "plt.ylabel('Amount of goals', fontdict = font_labels)\n",
    "plt.title('Sent and cancelled goals', loc='center', fontdict = font_graphs) \n",
    "\n",
    "plt.tight_layout() \n",
    "plt.subplots_adjust(left=0.1, right=0.9, bottom=0.2, top=0.8, wspace=0.4, hspace=0.4)\n",
    "plt.show()\n",
    "\n",
    "\n",
    "\n",
    "\n",
    "\n",
    "sets_of_coordinates_text = f'<div style=\"font-family: Arial; font-size: 18px;\">Here the sets of sent and canceled goals are shown</div>'\n",
    "# Markdown for the sets of goals reached/cancelled\n",
    "display(Markdown(sets_of_coordinates_text))\n",
    "\"\"\"\n",
    "This is done for the coordinates reached by the robot\n",
    "A table is created with the coordinates reached by the robot, created with vboxes and hboxes\n",
    "\"\"\"\n",
    "vbox = widgets.VBox()\n",
    "hbox = widgets.HBox()\n",
    "hbox_try0 = widgets.HBox((widgets.Label(\"Operation\"),))\n",
    "hbox_try1 = widgets.HBox((widgets.Label(\"X\"),))\n",
    "hbox_try2 = widgets.HBox((widgets.Label(\"Y\"),))\n",
    "hbox_try0.layout = widgets.Layout(width='33%', height='20px', overflow_y='hidden', justify_content='center', align_items='center')\n",
    "hbox_try1.layout = widgets.Layout(width='33%', height='20px', overflow_y='hidden', justify_content='center', align_items='center')\n",
    "hbox_try2.layout = widgets.Layout(width='33%', height='20px', overflow_y='hidden', justify_content='center', align_items='center')\n",
    "\n",
    "hbox.children = ([widgets.HTML(html_code_vertical_shorter), hbox_try0, widgets.HTML(html_code_vertical_shorter), hbox_try1, widgets.HTML(html_code_vertical_shorter), hbox_try2, widgets.HTML(html_code_vertical_shorter)])\n",
    "vbox.children = tuple([widgets.HTML(html_code_horizontal), hbox, widgets.HTML(html_code_horizontal),])\n",
    "display(vbox)\n",
    "\n",
    "\n"
   ]
  },
  {
   "cell_type": "code",
   "execution_count": null,
   "id": "2e07dbe6",
   "metadata": {},
   "outputs": [],
   "source": []
  }
 ],
 "metadata": {
  "kernelspec": {
   "display_name": "Python 3 (ipykernel)",
   "language": "python",
   "name": "python3"
  },
  "language_info": {
   "codemirror_mode": {
    "name": "ipython",
    "version": 3
   },
   "file_extension": ".py",
   "mimetype": "text/x-python",
   "name": "python",
   "nbconvert_exporter": "python",
   "pygments_lexer": "ipython3",
   "version": "3.8.5"
  }
 },
 "nbformat": 4,
 "nbformat_minor": 5
}
